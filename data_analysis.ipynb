{
 "cells": [
  {
   "cell_type": "code",
   "execution_count": 3,
   "metadata": {},
   "outputs": [],
   "source": [
    "import pandas as pd\n",
    "import numpy as np\n",
    "import plotly.express as px"
   ]
  },
  {
   "cell_type": "code",
   "execution_count": 4,
   "metadata": {},
   "outputs": [],
   "source": [
    "# read mps.csv\n",
    "mps = pd.read_csv('data/mps.csv', index_col=0, sep=';')"
   ]
  },
  {
   "cell_type": "code",
   "execution_count": 5,
   "metadata": {},
   "outputs": [
    {
     "data": {
      "text/plain": [
       "Index(['id', 'name', 'surname', 'link', 'party_list', 'constituency',\n",
       "       'elected_date', 'no_of_votes', 'oath_date', 'parliamentary_experience',\n",
       "       'club', 'birth_date', 'education', 'school', 'profession', 'email'],\n",
       "      dtype='object')"
      ]
     },
     "execution_count": 5,
     "metadata": {},
     "output_type": "execute_result"
    }
   ],
   "source": [
    "# list columns\n",
    "mps.columns"
   ]
  },
  {
   "cell_type": "code",
   "execution_count": 6,
   "metadata": {},
   "outputs": [
    {
     "data": {
      "text/plain": [
       "array(['wyższe', 'średnie ogólne', 'średnie zawodowe',\n",
       "       'średnie policealne/pomaturalne', nan], dtype=object)"
      ]
     },
     "execution_count": 6,
     "metadata": {},
     "output_type": "execute_result"
    }
   ],
   "source": [
    "# list unique values in column 'education'\n",
    "mps['education'].unique()"
   ]
  },
  {
   "cell_type": "code",
   "execution_count": 7,
   "metadata": {},
   "outputs": [
    {
     "data": {
      "application/vnd.plotly.v1+json": {
       "config": {
        "plotlyServerURL": "https://plot.ly"
       },
       "data": [
        {
         "alignmentgroup": "True",
         "bingroup": "x",
         "hovertemplate": "education=wyższe<br>party_list=%{x}<br>count=%{y}<extra></extra>",
         "legendgroup": "wyższe",
         "marker": {
          "color": "#636efa",
          "pattern": {
           "shape": ""
          }
         },
         "name": "wyższe",
         "offsetgroup": "wyższe",
         "orientation": "v",
         "showlegend": true,
         "type": "histogram",
         "x": [
          "Prawo i Sprawiedliwość",
          "Sojusz Lewicy Demokratycznej",
          "Koalicja Obywatelska",
          "Prawo i Sprawiedliwość",
          "Prawo i Sprawiedliwość",
          "Koalicja Obywatelska",
          "Prawo i Sprawiedliwość",
          "Prawo i Sprawiedliwość",
          "Prawo i Sprawiedliwość",
          "Koalicja Obywatelska",
          "Koalicja Obywatelska",
          "Prawo i Sprawiedliwość",
          "Prawo i Sprawiedliwość",
          "Prawo i Sprawiedliwość",
          "Polskie Stronnictwo Ludowe",
          "Prawo i Sprawiedliwość",
          "Prawo i Sprawiedliwość",
          "Prawo i Sprawiedliwość",
          "Polskie Stronnictwo Ludowe",
          "Konfederacja Wolność i Niepodległość",
          "Sojusz Lewicy Demokratycznej",
          "Polskie Stronnictwo Ludowe",
          "Prawo i Sprawiedliwość",
          "Koalicja Obywatelska",
          "Prawo i Sprawiedliwość",
          "Prawo i Sprawiedliwość",
          "Prawo i Sprawiedliwość",
          "Koalicja Obywatelska",
          "Prawo i Sprawiedliwość",
          "Konfederacja Wolność i Niepodległość",
          "Prawo i Sprawiedliwość",
          "Koalicja Obywatelska",
          "Prawo i Sprawiedliwość",
          "Prawo i Sprawiedliwość",
          "Sojusz Lewicy Demokratycznej",
          "Koalicja Obywatelska",
          "Prawo i Sprawiedliwość",
          "Prawo i Sprawiedliwość",
          "Prawo i Sprawiedliwość",
          "Prawo i Sprawiedliwość",
          "Prawo i Sprawiedliwość",
          "Koalicja Obywatelska",
          "Prawo i Sprawiedliwość",
          "Prawo i Sprawiedliwość",
          "Koalicja Obywatelska",
          "Prawo i Sprawiedliwość",
          "Prawo i Sprawiedliwość",
          "Prawo i Sprawiedliwość",
          "Sojusz Lewicy Demokratycznej",
          "Sojusz Lewicy Demokratycznej",
          "Koalicja Obywatelska",
          "Prawo i Sprawiedliwość",
          "Prawo i Sprawiedliwość",
          "Koalicja Obywatelska",
          "Prawo i Sprawiedliwość",
          "Prawo i Sprawiedliwość",
          "Prawo i Sprawiedliwość",
          "Koalicja Obywatelska",
          "Prawo i Sprawiedliwość",
          "Prawo i Sprawiedliwość",
          "Prawo i Sprawiedliwość",
          "Prawo i Sprawiedliwość",
          "Sojusz Lewicy Demokratycznej",
          "Konfederacja Wolność i Niepodległość",
          "Prawo i Sprawiedliwość",
          "Sojusz Lewicy Demokratycznej",
          "Koalicja Obywatelska",
          "Prawo i Sprawiedliwość",
          "Prawo i Sprawiedliwość",
          "Koalicja Obywatelska",
          "Sojusz Lewicy Demokratycznej",
          "Koalicja Obywatelska",
          "Prawo i Sprawiedliwość",
          "Koalicja Obywatelska",
          "Koalicja Obywatelska",
          "Koalicja Obywatelska",
          "Koalicja Obywatelska",
          "Koalicja Obywatelska",
          "Mniejszość Niemiecka",
          "Koalicja Obywatelska",
          "Koalicja Obywatelska",
          "Prawo i Sprawiedliwość",
          "Sojusz Lewicy Demokratycznej",
          "Prawo i Sprawiedliwość",
          "Sojusz Lewicy Demokratycznej",
          "Koalicja Obywatelska",
          "Prawo i Sprawiedliwość",
          "Sojusz Lewicy Demokratycznej",
          "Prawo i Sprawiedliwość",
          "Prawo i Sprawiedliwość",
          "Prawo i Sprawiedliwość",
          "Prawo i Sprawiedliwość",
          "Koalicja Obywatelska",
          "Koalicja Obywatelska",
          "Prawo i Sprawiedliwość",
          "Prawo i Sprawiedliwość",
          "Prawo i Sprawiedliwość",
          "Prawo i Sprawiedliwość",
          "Sojusz Lewicy Demokratycznej",
          "Prawo i Sprawiedliwość",
          "Prawo i Sprawiedliwość",
          "Prawo i Sprawiedliwość",
          "Koalicja Obywatelska",
          "Koalicja Obywatelska",
          "Koalicja Obywatelska",
          "Koalicja Obywatelska",
          "Prawo i Sprawiedliwość",
          "Koalicja Obywatelska",
          "Polskie Stronnictwo Ludowe",
          "Prawo i Sprawiedliwość",
          "Prawo i Sprawiedliwość",
          "Koalicja Obywatelska",
          "Koalicja Obywatelska",
          "Koalicja Obywatelska",
          "Prawo i Sprawiedliwość",
          "Prawo i Sprawiedliwość",
          "Koalicja Obywatelska",
          "Prawo i Sprawiedliwość",
          "Prawo i Sprawiedliwość",
          "Sojusz Lewicy Demokratycznej",
          "Prawo i Sprawiedliwość",
          "Koalicja Obywatelska",
          "Prawo i Sprawiedliwość",
          "Koalicja Obywatelska",
          "Koalicja Obywatelska",
          "Koalicja Obywatelska",
          "Koalicja Obywatelska",
          "Prawo i Sprawiedliwość",
          "Prawo i Sprawiedliwość",
          "Prawo i Sprawiedliwość",
          "Prawo i Sprawiedliwość",
          "Prawo i Sprawiedliwość",
          "Prawo i Sprawiedliwość",
          "Konfederacja Wolność i Niepodległość",
          "Prawo i Sprawiedliwość",
          "Prawo i Sprawiedliwość",
          "Prawo i Sprawiedliwość",
          "Polskie Stronnictwo Ludowe",
          "Koalicja Obywatelska",
          "Koalicja Obywatelska",
          "Polskie Stronnictwo Ludowe",
          "Koalicja Obywatelska",
          "Prawo i Sprawiedliwość",
          "Koalicja Obywatelska",
          "Sojusz Lewicy Demokratycznej",
          "Koalicja Obywatelska",
          "Sojusz Lewicy Demokratycznej",
          "Sojusz Lewicy Demokratycznej",
          "Konfederacja Wolność i Niepodległość",
          "Polskie Stronnictwo Ludowe",
          "Prawo i Sprawiedliwość",
          "Koalicja Obywatelska",
          "Prawo i Sprawiedliwość",
          "Sojusz Lewicy Demokratycznej",
          "Koalicja Obywatelska",
          "Prawo i Sprawiedliwość",
          "Prawo i Sprawiedliwość",
          "Prawo i Sprawiedliwość",
          "Prawo i Sprawiedliwość",
          "Prawo i Sprawiedliwość",
          "Koalicja Obywatelska",
          "Prawo i Sprawiedliwość",
          "Polskie Stronnictwo Ludowe",
          "Prawo i Sprawiedliwość",
          "Koalicja Obywatelska",
          "Sojusz Lewicy Demokratycznej",
          "Koalicja Obywatelska",
          "Prawo i Sprawiedliwość",
          "Koalicja Obywatelska",
          "Prawo i Sprawiedliwość",
          "Sojusz Lewicy Demokratycznej",
          "Prawo i Sprawiedliwość",
          "Koalicja Obywatelska",
          "Prawo i Sprawiedliwość",
          "Prawo i Sprawiedliwość",
          "Sojusz Lewicy Demokratycznej",
          "Sojusz Lewicy Demokratycznej",
          "Konfederacja Wolność i Niepodległość",
          "Prawo i Sprawiedliwość",
          "Prawo i Sprawiedliwość",
          "Prawo i Sprawiedliwość",
          "Polskie Stronnictwo Ludowe",
          "Prawo i Sprawiedliwość",
          "Sojusz Lewicy Demokratycznej",
          "Prawo i Sprawiedliwość",
          "Prawo i Sprawiedliwość",
          "Koalicja Obywatelska",
          "Prawo i Sprawiedliwość",
          "Koalicja Obywatelska",
          "Koalicja Obywatelska",
          "Koalicja Obywatelska",
          "Prawo i Sprawiedliwość",
          "Prawo i Sprawiedliwość",
          "Prawo i Sprawiedliwość",
          "Prawo i Sprawiedliwość",
          "Polskie Stronnictwo Ludowe",
          "Koalicja Obywatelska",
          "Prawo i Sprawiedliwość",
          "Prawo i Sprawiedliwość",
          "Koalicja Obywatelska",
          "Polskie Stronnictwo Ludowe",
          "Koalicja Obywatelska",
          "Prawo i Sprawiedliwość",
          "Sojusz Lewicy Demokratycznej",
          "Prawo i Sprawiedliwość",
          "Prawo i Sprawiedliwość",
          "Prawo i Sprawiedliwość",
          "Prawo i Sprawiedliwość",
          "Polskie Stronnictwo Ludowe",
          "Prawo i Sprawiedliwość",
          "Prawo i Sprawiedliwość",
          "Koalicja Obywatelska",
          "Koalicja Obywatelska",
          "Prawo i Sprawiedliwość",
          "Prawo i Sprawiedliwość",
          "Prawo i Sprawiedliwość",
          "Sojusz Lewicy Demokratycznej",
          "Polskie Stronnictwo Ludowe",
          "Prawo i Sprawiedliwość",
          "Prawo i Sprawiedliwość",
          "Prawo i Sprawiedliwość",
          "Koalicja Obywatelska",
          "Koalicja Obywatelska",
          "Prawo i Sprawiedliwość",
          "Prawo i Sprawiedliwość",
          "Prawo i Sprawiedliwość",
          "Koalicja Obywatelska",
          "Prawo i Sprawiedliwość",
          "Koalicja Obywatelska",
          "Koalicja Obywatelska",
          "Prawo i Sprawiedliwość",
          "Prawo i Sprawiedliwość",
          "Prawo i Sprawiedliwość",
          "Koalicja Obywatelska",
          "Koalicja Obywatelska",
          "Koalicja Obywatelska",
          "Koalicja Obywatelska",
          "Koalicja Obywatelska",
          "Koalicja Obywatelska",
          "Koalicja Obywatelska",
          "Koalicja Obywatelska",
          "Prawo i Sprawiedliwość",
          "Sojusz Lewicy Demokratycznej",
          "Polskie Stronnictwo Ludowe",
          "Koalicja Obywatelska",
          "Sojusz Lewicy Demokratycznej",
          "Prawo i Sprawiedliwość",
          "Koalicja Obywatelska",
          "Prawo i Sprawiedliwość",
          "Koalicja Obywatelska",
          "Prawo i Sprawiedliwość",
          "Koalicja Obywatelska",
          "Prawo i Sprawiedliwość",
          "Koalicja Obywatelska",
          "Prawo i Sprawiedliwość",
          "Prawo i Sprawiedliwość",
          "Prawo i Sprawiedliwość",
          "Prawo i Sprawiedliwość",
          "Koalicja Obywatelska",
          "Polskie Stronnictwo Ludowe",
          "Polskie Stronnictwo Ludowe",
          "Prawo i Sprawiedliwość",
          "Sojusz Lewicy Demokratycznej",
          "Sojusz Lewicy Demokratycznej",
          "Koalicja Obywatelska",
          "Koalicja Obywatelska",
          "Prawo i Sprawiedliwość",
          "Koalicja Obywatelska",
          "Prawo i Sprawiedliwość",
          "Prawo i Sprawiedliwość",
          "Koalicja Obywatelska",
          "Prawo i Sprawiedliwość",
          "Koalicja Obywatelska",
          "Prawo i Sprawiedliwość",
          "Prawo i Sprawiedliwość",
          "Prawo i Sprawiedliwość",
          "Prawo i Sprawiedliwość",
          "Prawo i Sprawiedliwość",
          "Koalicja Obywatelska",
          "Prawo i Sprawiedliwość",
          "Prawo i Sprawiedliwość",
          "Sojusz Lewicy Demokratycznej",
          "Koalicja Obywatelska",
          "Polskie Stronnictwo Ludowe",
          "Prawo i Sprawiedliwość",
          "Koalicja Obywatelska",
          "Prawo i Sprawiedliwość",
          "Prawo i Sprawiedliwość",
          "Koalicja Obywatelska",
          "Koalicja Obywatelska",
          "Prawo i Sprawiedliwość",
          "Koalicja Obywatelska",
          "Sojusz Lewicy Demokratycznej",
          "Koalicja Obywatelska",
          "Prawo i Sprawiedliwość",
          "Koalicja Obywatelska",
          "Polskie Stronnictwo Ludowe",
          "Prawo i Sprawiedliwość",
          "Polskie Stronnictwo Ludowe",
          "Prawo i Sprawiedliwość",
          "Koalicja Obywatelska",
          "Prawo i Sprawiedliwość",
          "Polskie Stronnictwo Ludowe",
          "Koalicja Obywatelska",
          "Sojusz Lewicy Demokratycznej",
          "Prawo i Sprawiedliwość",
          "Prawo i Sprawiedliwość",
          "Sojusz Lewicy Demokratycznej",
          "Prawo i Sprawiedliwość",
          "Sojusz Lewicy Demokratycznej",
          "Prawo i Sprawiedliwość",
          "Prawo i Sprawiedliwość",
          "Koalicja Obywatelska",
          "Polskie Stronnictwo Ludowe",
          "Koalicja Obywatelska",
          "Koalicja Obywatelska",
          "Prawo i Sprawiedliwość",
          "Koalicja Obywatelska",
          "Prawo i Sprawiedliwość",
          "Koalicja Obywatelska",
          "Prawo i Sprawiedliwość",
          "Prawo i Sprawiedliwość",
          "Prawo i Sprawiedliwość",
          "Prawo i Sprawiedliwość",
          "Koalicja Obywatelska",
          "Prawo i Sprawiedliwość",
          "Koalicja Obywatelska",
          "Sojusz Lewicy Demokratycznej",
          "Prawo i Sprawiedliwość",
          "Prawo i Sprawiedliwość",
          "Prawo i Sprawiedliwość",
          "Prawo i Sprawiedliwość",
          "Koalicja Obywatelska",
          "Prawo i Sprawiedliwość",
          "Koalicja Obywatelska",
          "Prawo i Sprawiedliwość",
          "Prawo i Sprawiedliwość",
          "Sojusz Lewicy Demokratycznej",
          "Koalicja Obywatelska",
          "Prawo i Sprawiedliwość",
          "Prawo i Sprawiedliwość",
          "Sojusz Lewicy Demokratycznej",
          "Koalicja Obywatelska",
          "Prawo i Sprawiedliwość",
          "Koalicja Obywatelska",
          "Sojusz Lewicy Demokratycznej",
          "Polskie Stronnictwo Ludowe",
          "Prawo i Sprawiedliwość",
          "Koalicja Obywatelska",
          "Prawo i Sprawiedliwość",
          "Prawo i Sprawiedliwość",
          "Koalicja Obywatelska",
          "Prawo i Sprawiedliwość",
          "Polskie Stronnictwo Ludowe",
          "Koalicja Obywatelska",
          "Sojusz Lewicy Demokratycznej",
          "Prawo i Sprawiedliwość",
          "Prawo i Sprawiedliwość",
          "Prawo i Sprawiedliwość",
          "Prawo i Sprawiedliwość",
          "Prawo i Sprawiedliwość",
          "Prawo i Sprawiedliwość",
          "Sojusz Lewicy Demokratycznej",
          "Prawo i Sprawiedliwość",
          "Polskie Stronnictwo Ludowe",
          "Koalicja Obywatelska",
          "Koalicja Obywatelska",
          "Sojusz Lewicy Demokratycznej",
          "Prawo i Sprawiedliwość",
          "Koalicja Obywatelska",
          "Konfederacja Wolność i Niepodległość",
          "Prawo i Sprawiedliwość",
          "Polskie Stronnictwo Ludowe",
          "Sojusz Lewicy Demokratycznej",
          "Koalicja Obywatelska",
          "Konfederacja Wolność i Niepodległość",
          "Prawo i Sprawiedliwość",
          "Prawo i Sprawiedliwość",
          "Koalicja Obywatelska",
          "Prawo i Sprawiedliwość",
          "Prawo i Sprawiedliwość",
          "Prawo i Sprawiedliwość",
          "Prawo i Sprawiedliwość",
          "Prawo i Sprawiedliwość",
          "Prawo i Sprawiedliwość",
          "Prawo i Sprawiedliwość",
          "Koalicja Obywatelska",
          "Prawo i Sprawiedliwość",
          "Prawo i Sprawiedliwość",
          "Prawo i Sprawiedliwość",
          "Sojusz Lewicy Demokratycznej",
          "Koalicja Obywatelska",
          "Koalicja Obywatelska",
          "Koalicja Obywatelska",
          "Prawo i Sprawiedliwość",
          "Koalicja Obywatelska",
          "Prawo i Sprawiedliwość",
          "Prawo i Sprawiedliwość",
          "Sojusz Lewicy Demokratycznej",
          "Sojusz Lewicy Demokratycznej",
          "Prawo i Sprawiedliwość",
          "Prawo i Sprawiedliwość",
          "Prawo i Sprawiedliwość",
          "Prawo i Sprawiedliwość",
          "Prawo i Sprawiedliwość",
          "Prawo i Sprawiedliwość",
          "Koalicja Obywatelska",
          "Sojusz Lewicy Demokratycznej",
          "Sojusz Lewicy Demokratycznej",
          "Prawo i Sprawiedliwość",
          "Koalicja Obywatelska",
          "Polskie Stronnictwo Ludowe",
          "Polskie Stronnictwo Ludowe",
          "Prawo i Sprawiedliwość",
          "Koalicja Obywatelska",
          "Prawo i Sprawiedliwość",
          "Prawo i Sprawiedliwość",
          "Koalicja Obywatelska",
          "Koalicja Obywatelska",
          "Prawo i Sprawiedliwość",
          "Prawo i Sprawiedliwość",
          "Koalicja Obywatelska",
          "Prawo i Sprawiedliwość",
          "Prawo i Sprawiedliwość",
          "Polskie Stronnictwo Ludowe",
          "Koalicja Obywatelska",
          "Polskie Stronnictwo Ludowe",
          "Sojusz Lewicy Demokratycznej"
         ],
         "xaxis": "x",
         "yaxis": "y"
        },
        {
         "alignmentgroup": "True",
         "bingroup": "x",
         "hovertemplate": "education=średnie ogólne<br>party_list=%{x}<br>count=%{y}<extra></extra>",
         "legendgroup": "średnie ogólne",
         "marker": {
          "color": "#EF553B",
          "pattern": {
           "shape": ""
          }
         },
         "name": "średnie ogólne",
         "offsetgroup": "średnie ogólne",
         "orientation": "v",
         "showlegend": true,
         "type": "histogram",
         "x": [
          "Koalicja Obywatelska",
          "Konfederacja Wolność i Niepodległość",
          "Prawo i Sprawiedliwość",
          "Prawo i Sprawiedliwość",
          "Prawo i Sprawiedliwość",
          "Prawo i Sprawiedliwość",
          "Koalicja Obywatelska",
          "Prawo i Sprawiedliwość",
          "Koalicja Obywatelska",
          "Polskie Stronnictwo Ludowe",
          "Prawo i Sprawiedliwość",
          "Koalicja Obywatelska",
          "Sojusz Lewicy Demokratycznej",
          "Koalicja Obywatelska",
          "Konfederacja Wolność i Niepodległość"
         ],
         "xaxis": "x",
         "yaxis": "y"
        },
        {
         "alignmentgroup": "True",
         "bingroup": "x",
         "hovertemplate": "education=średnie zawodowe<br>party_list=%{x}<br>count=%{y}<extra></extra>",
         "legendgroup": "średnie zawodowe",
         "marker": {
          "color": "#00cc96",
          "pattern": {
           "shape": ""
          }
         },
         "name": "średnie zawodowe",
         "offsetgroup": "średnie zawodowe",
         "orientation": "v",
         "showlegend": true,
         "type": "histogram",
         "x": [
          "Sojusz Lewicy Demokratycznej",
          "Koalicja Obywatelska",
          "Prawo i Sprawiedliwość",
          "Prawo i Sprawiedliwość",
          "Prawo i Sprawiedliwość",
          "Prawo i Sprawiedliwość",
          "Prawo i Sprawiedliwość",
          "Prawo i Sprawiedliwość",
          "Prawo i Sprawiedliwość"
         ],
         "xaxis": "x",
         "yaxis": "y"
        },
        {
         "alignmentgroup": "True",
         "bingroup": "x",
         "hovertemplate": "education=średnie policealne/pomaturalne<br>party_list=%{x}<br>count=%{y}<extra></extra>",
         "legendgroup": "średnie policealne/pomaturalne",
         "marker": {
          "color": "#ab63fa",
          "pattern": {
           "shape": ""
          }
         },
         "name": "średnie policealne/pomaturalne",
         "offsetgroup": "średnie policealne/pomaturalne",
         "orientation": "v",
         "showlegend": true,
         "type": "histogram",
         "x": [
          "Prawo i Sprawiedliwość",
          "Prawo i Sprawiedliwość",
          "Prawo i Sprawiedliwość",
          "Prawo i Sprawiedliwość",
          "Prawo i Sprawiedliwość",
          "Koalicja Obywatelska",
          "Prawo i Sprawiedliwość"
         ],
         "xaxis": "x",
         "yaxis": "y"
        }
       ],
       "layout": {
        "barmode": "relative",
        "legend": {
         "title": {
          "text": "education"
         },
         "tracegroupgap": 0
        },
        "margin": {
         "t": 60
        },
        "template": {
         "data": {
          "bar": [
           {
            "error_x": {
             "color": "#2a3f5f"
            },
            "error_y": {
             "color": "#2a3f5f"
            },
            "marker": {
             "line": {
              "color": "#E5ECF6",
              "width": 0.5
             },
             "pattern": {
              "fillmode": "overlay",
              "size": 10,
              "solidity": 0.2
             }
            },
            "type": "bar"
           }
          ],
          "barpolar": [
           {
            "marker": {
             "line": {
              "color": "#E5ECF6",
              "width": 0.5
             },
             "pattern": {
              "fillmode": "overlay",
              "size": 10,
              "solidity": 0.2
             }
            },
            "type": "barpolar"
           }
          ],
          "carpet": [
           {
            "aaxis": {
             "endlinecolor": "#2a3f5f",
             "gridcolor": "white",
             "linecolor": "white",
             "minorgridcolor": "white",
             "startlinecolor": "#2a3f5f"
            },
            "baxis": {
             "endlinecolor": "#2a3f5f",
             "gridcolor": "white",
             "linecolor": "white",
             "minorgridcolor": "white",
             "startlinecolor": "#2a3f5f"
            },
            "type": "carpet"
           }
          ],
          "choropleth": [
           {
            "colorbar": {
             "outlinewidth": 0,
             "ticks": ""
            },
            "type": "choropleth"
           }
          ],
          "contour": [
           {
            "colorbar": {
             "outlinewidth": 0,
             "ticks": ""
            },
            "colorscale": [
             [
              0,
              "#0d0887"
             ],
             [
              0.1111111111111111,
              "#46039f"
             ],
             [
              0.2222222222222222,
              "#7201a8"
             ],
             [
              0.3333333333333333,
              "#9c179e"
             ],
             [
              0.4444444444444444,
              "#bd3786"
             ],
             [
              0.5555555555555556,
              "#d8576b"
             ],
             [
              0.6666666666666666,
              "#ed7953"
             ],
             [
              0.7777777777777778,
              "#fb9f3a"
             ],
             [
              0.8888888888888888,
              "#fdca26"
             ],
             [
              1,
              "#f0f921"
             ]
            ],
            "type": "contour"
           }
          ],
          "contourcarpet": [
           {
            "colorbar": {
             "outlinewidth": 0,
             "ticks": ""
            },
            "type": "contourcarpet"
           }
          ],
          "heatmap": [
           {
            "colorbar": {
             "outlinewidth": 0,
             "ticks": ""
            },
            "colorscale": [
             [
              0,
              "#0d0887"
             ],
             [
              0.1111111111111111,
              "#46039f"
             ],
             [
              0.2222222222222222,
              "#7201a8"
             ],
             [
              0.3333333333333333,
              "#9c179e"
             ],
             [
              0.4444444444444444,
              "#bd3786"
             ],
             [
              0.5555555555555556,
              "#d8576b"
             ],
             [
              0.6666666666666666,
              "#ed7953"
             ],
             [
              0.7777777777777778,
              "#fb9f3a"
             ],
             [
              0.8888888888888888,
              "#fdca26"
             ],
             [
              1,
              "#f0f921"
             ]
            ],
            "type": "heatmap"
           }
          ],
          "heatmapgl": [
           {
            "colorbar": {
             "outlinewidth": 0,
             "ticks": ""
            },
            "colorscale": [
             [
              0,
              "#0d0887"
             ],
             [
              0.1111111111111111,
              "#46039f"
             ],
             [
              0.2222222222222222,
              "#7201a8"
             ],
             [
              0.3333333333333333,
              "#9c179e"
             ],
             [
              0.4444444444444444,
              "#bd3786"
             ],
             [
              0.5555555555555556,
              "#d8576b"
             ],
             [
              0.6666666666666666,
              "#ed7953"
             ],
             [
              0.7777777777777778,
              "#fb9f3a"
             ],
             [
              0.8888888888888888,
              "#fdca26"
             ],
             [
              1,
              "#f0f921"
             ]
            ],
            "type": "heatmapgl"
           }
          ],
          "histogram": [
           {
            "marker": {
             "pattern": {
              "fillmode": "overlay",
              "size": 10,
              "solidity": 0.2
             }
            },
            "type": "histogram"
           }
          ],
          "histogram2d": [
           {
            "colorbar": {
             "outlinewidth": 0,
             "ticks": ""
            },
            "colorscale": [
             [
              0,
              "#0d0887"
             ],
             [
              0.1111111111111111,
              "#46039f"
             ],
             [
              0.2222222222222222,
              "#7201a8"
             ],
             [
              0.3333333333333333,
              "#9c179e"
             ],
             [
              0.4444444444444444,
              "#bd3786"
             ],
             [
              0.5555555555555556,
              "#d8576b"
             ],
             [
              0.6666666666666666,
              "#ed7953"
             ],
             [
              0.7777777777777778,
              "#fb9f3a"
             ],
             [
              0.8888888888888888,
              "#fdca26"
             ],
             [
              1,
              "#f0f921"
             ]
            ],
            "type": "histogram2d"
           }
          ],
          "histogram2dcontour": [
           {
            "colorbar": {
             "outlinewidth": 0,
             "ticks": ""
            },
            "colorscale": [
             [
              0,
              "#0d0887"
             ],
             [
              0.1111111111111111,
              "#46039f"
             ],
             [
              0.2222222222222222,
              "#7201a8"
             ],
             [
              0.3333333333333333,
              "#9c179e"
             ],
             [
              0.4444444444444444,
              "#bd3786"
             ],
             [
              0.5555555555555556,
              "#d8576b"
             ],
             [
              0.6666666666666666,
              "#ed7953"
             ],
             [
              0.7777777777777778,
              "#fb9f3a"
             ],
             [
              0.8888888888888888,
              "#fdca26"
             ],
             [
              1,
              "#f0f921"
             ]
            ],
            "type": "histogram2dcontour"
           }
          ],
          "mesh3d": [
           {
            "colorbar": {
             "outlinewidth": 0,
             "ticks": ""
            },
            "type": "mesh3d"
           }
          ],
          "parcoords": [
           {
            "line": {
             "colorbar": {
              "outlinewidth": 0,
              "ticks": ""
             }
            },
            "type": "parcoords"
           }
          ],
          "pie": [
           {
            "automargin": true,
            "type": "pie"
           }
          ],
          "scatter": [
           {
            "fillpattern": {
             "fillmode": "overlay",
             "size": 10,
             "solidity": 0.2
            },
            "type": "scatter"
           }
          ],
          "scatter3d": [
           {
            "line": {
             "colorbar": {
              "outlinewidth": 0,
              "ticks": ""
             }
            },
            "marker": {
             "colorbar": {
              "outlinewidth": 0,
              "ticks": ""
             }
            },
            "type": "scatter3d"
           }
          ],
          "scattercarpet": [
           {
            "marker": {
             "colorbar": {
              "outlinewidth": 0,
              "ticks": ""
             }
            },
            "type": "scattercarpet"
           }
          ],
          "scattergeo": [
           {
            "marker": {
             "colorbar": {
              "outlinewidth": 0,
              "ticks": ""
             }
            },
            "type": "scattergeo"
           }
          ],
          "scattergl": [
           {
            "marker": {
             "colorbar": {
              "outlinewidth": 0,
              "ticks": ""
             }
            },
            "type": "scattergl"
           }
          ],
          "scattermapbox": [
           {
            "marker": {
             "colorbar": {
              "outlinewidth": 0,
              "ticks": ""
             }
            },
            "type": "scattermapbox"
           }
          ],
          "scatterpolar": [
           {
            "marker": {
             "colorbar": {
              "outlinewidth": 0,
              "ticks": ""
             }
            },
            "type": "scatterpolar"
           }
          ],
          "scatterpolargl": [
           {
            "marker": {
             "colorbar": {
              "outlinewidth": 0,
              "ticks": ""
             }
            },
            "type": "scatterpolargl"
           }
          ],
          "scatterternary": [
           {
            "marker": {
             "colorbar": {
              "outlinewidth": 0,
              "ticks": ""
             }
            },
            "type": "scatterternary"
           }
          ],
          "surface": [
           {
            "colorbar": {
             "outlinewidth": 0,
             "ticks": ""
            },
            "colorscale": [
             [
              0,
              "#0d0887"
             ],
             [
              0.1111111111111111,
              "#46039f"
             ],
             [
              0.2222222222222222,
              "#7201a8"
             ],
             [
              0.3333333333333333,
              "#9c179e"
             ],
             [
              0.4444444444444444,
              "#bd3786"
             ],
             [
              0.5555555555555556,
              "#d8576b"
             ],
             [
              0.6666666666666666,
              "#ed7953"
             ],
             [
              0.7777777777777778,
              "#fb9f3a"
             ],
             [
              0.8888888888888888,
              "#fdca26"
             ],
             [
              1,
              "#f0f921"
             ]
            ],
            "type": "surface"
           }
          ],
          "table": [
           {
            "cells": {
             "fill": {
              "color": "#EBF0F8"
             },
             "line": {
              "color": "white"
             }
            },
            "header": {
             "fill": {
              "color": "#C8D4E3"
             },
             "line": {
              "color": "white"
             }
            },
            "type": "table"
           }
          ]
         },
         "layout": {
          "annotationdefaults": {
           "arrowcolor": "#2a3f5f",
           "arrowhead": 0,
           "arrowwidth": 1
          },
          "autotypenumbers": "strict",
          "coloraxis": {
           "colorbar": {
            "outlinewidth": 0,
            "ticks": ""
           }
          },
          "colorscale": {
           "diverging": [
            [
             0,
             "#8e0152"
            ],
            [
             0.1,
             "#c51b7d"
            ],
            [
             0.2,
             "#de77ae"
            ],
            [
             0.3,
             "#f1b6da"
            ],
            [
             0.4,
             "#fde0ef"
            ],
            [
             0.5,
             "#f7f7f7"
            ],
            [
             0.6,
             "#e6f5d0"
            ],
            [
             0.7,
             "#b8e186"
            ],
            [
             0.8,
             "#7fbc41"
            ],
            [
             0.9,
             "#4d9221"
            ],
            [
             1,
             "#276419"
            ]
           ],
           "sequential": [
            [
             0,
             "#0d0887"
            ],
            [
             0.1111111111111111,
             "#46039f"
            ],
            [
             0.2222222222222222,
             "#7201a8"
            ],
            [
             0.3333333333333333,
             "#9c179e"
            ],
            [
             0.4444444444444444,
             "#bd3786"
            ],
            [
             0.5555555555555556,
             "#d8576b"
            ],
            [
             0.6666666666666666,
             "#ed7953"
            ],
            [
             0.7777777777777778,
             "#fb9f3a"
            ],
            [
             0.8888888888888888,
             "#fdca26"
            ],
            [
             1,
             "#f0f921"
            ]
           ],
           "sequentialminus": [
            [
             0,
             "#0d0887"
            ],
            [
             0.1111111111111111,
             "#46039f"
            ],
            [
             0.2222222222222222,
             "#7201a8"
            ],
            [
             0.3333333333333333,
             "#9c179e"
            ],
            [
             0.4444444444444444,
             "#bd3786"
            ],
            [
             0.5555555555555556,
             "#d8576b"
            ],
            [
             0.6666666666666666,
             "#ed7953"
            ],
            [
             0.7777777777777778,
             "#fb9f3a"
            ],
            [
             0.8888888888888888,
             "#fdca26"
            ],
            [
             1,
             "#f0f921"
            ]
           ]
          },
          "colorway": [
           "#636efa",
           "#EF553B",
           "#00cc96",
           "#ab63fa",
           "#FFA15A",
           "#19d3f3",
           "#FF6692",
           "#B6E880",
           "#FF97FF",
           "#FECB52"
          ],
          "font": {
           "color": "#2a3f5f"
          },
          "geo": {
           "bgcolor": "white",
           "lakecolor": "white",
           "landcolor": "#E5ECF6",
           "showlakes": true,
           "showland": true,
           "subunitcolor": "white"
          },
          "hoverlabel": {
           "align": "left"
          },
          "hovermode": "closest",
          "mapbox": {
           "style": "light"
          },
          "paper_bgcolor": "white",
          "plot_bgcolor": "#E5ECF6",
          "polar": {
           "angularaxis": {
            "gridcolor": "white",
            "linecolor": "white",
            "ticks": ""
           },
           "bgcolor": "#E5ECF6",
           "radialaxis": {
            "gridcolor": "white",
            "linecolor": "white",
            "ticks": ""
           }
          },
          "scene": {
           "xaxis": {
            "backgroundcolor": "#E5ECF6",
            "gridcolor": "white",
            "gridwidth": 2,
            "linecolor": "white",
            "showbackground": true,
            "ticks": "",
            "zerolinecolor": "white"
           },
           "yaxis": {
            "backgroundcolor": "#E5ECF6",
            "gridcolor": "white",
            "gridwidth": 2,
            "linecolor": "white",
            "showbackground": true,
            "ticks": "",
            "zerolinecolor": "white"
           },
           "zaxis": {
            "backgroundcolor": "#E5ECF6",
            "gridcolor": "white",
            "gridwidth": 2,
            "linecolor": "white",
            "showbackground": true,
            "ticks": "",
            "zerolinecolor": "white"
           }
          },
          "shapedefaults": {
           "line": {
            "color": "#2a3f5f"
           }
          },
          "ternary": {
           "aaxis": {
            "gridcolor": "white",
            "linecolor": "white",
            "ticks": ""
           },
           "baxis": {
            "gridcolor": "white",
            "linecolor": "white",
            "ticks": ""
           },
           "bgcolor": "#E5ECF6",
           "caxis": {
            "gridcolor": "white",
            "linecolor": "white",
            "ticks": ""
           }
          },
          "title": {
           "x": 0.05
          },
          "xaxis": {
           "automargin": true,
           "gridcolor": "white",
           "linecolor": "white",
           "ticks": "",
           "title": {
            "standoff": 15
           },
           "zerolinecolor": "white",
           "zerolinewidth": 2
          },
          "yaxis": {
           "automargin": true,
           "gridcolor": "white",
           "linecolor": "white",
           "ticks": "",
           "title": {
            "standoff": 15
           },
           "zerolinecolor": "white",
           "zerolinewidth": 2
          }
         }
        },
        "xaxis": {
         "anchor": "y",
         "domain": [
          0,
          1
         ],
         "title": {
          "text": "party_list"
         }
        },
        "yaxis": {
         "anchor": "x",
         "domain": [
          0,
          1
         ],
         "title": {
          "text": "count"
         }
        }
       }
      }
     },
     "metadata": {},
     "output_type": "display_data"
    },
    {
     "data": {
      "application/vnd.plotly.v1+json": {
       "config": {
        "plotlyServerURL": "https://plot.ly"
       },
       "data": [
        {
         "alignmentgroup": "True",
         "hovertemplate": "Party: %{x}<br>Percentage: %{y:.2f}%",
         "legendgroup": "Mniejszość Niemiecka",
         "marker": {
          "color": "#636efa",
          "pattern": {
           "shape": ""
          }
         },
         "name": "",
         "offsetgroup": "Mniejszość Niemiecka",
         "orientation": "v",
         "showlegend": false,
         "textposition": "outside",
         "texttemplate": "%{y:.2f}%",
         "type": "bar",
         "x": [
          "Mniejszość Niemiecka"
         ],
         "xaxis": "x",
         "y": [
          100
         ],
         "yaxis": "y"
        },
        {
         "alignmentgroup": "True",
         "hovertemplate": "Party: %{x}<br>Percentage: %{y:.2f}%",
         "legendgroup": "Polskie Stronnictwo Ludowe",
         "marker": {
          "color": "#EF553B",
          "pattern": {
           "shape": ""
          }
         },
         "name": "",
         "offsetgroup": "Polskie Stronnictwo Ludowe",
         "orientation": "v",
         "showlegend": false,
         "textposition": "outside",
         "texttemplate": "%{y:.2f}%",
         "type": "bar",
         "x": [
          "Polskie Stronnictwo Ludowe"
         ],
         "xaxis": "x",
         "y": [
          96.66666666666667
         ],
         "yaxis": "y"
        },
        {
         "alignmentgroup": "True",
         "hovertemplate": "Party: %{x}<br>Percentage: %{y:.2f}%",
         "legendgroup": "Sojusz Lewicy Demokratycznej",
         "marker": {
          "color": "#00cc96",
          "pattern": {
           "shape": ""
          }
         },
         "name": "",
         "offsetgroup": "Sojusz Lewicy Demokratycznej",
         "orientation": "v",
         "showlegend": false,
         "textposition": "outside",
         "texttemplate": "%{y:.2f}%",
         "type": "bar",
         "x": [
          "Sojusz Lewicy Demokratycznej"
         ],
         "xaxis": "x",
         "y": [
          95.91836734693877
         ],
         "yaxis": "y"
        },
        {
         "alignmentgroup": "True",
         "hovertemplate": "Party: %{x}<br>Percentage: %{y:.2f}%",
         "legendgroup": "Koalicja Obywatelska",
         "marker": {
          "color": "#ab63fa",
          "pattern": {
           "shape": ""
          }
         },
         "name": "",
         "offsetgroup": "Koalicja Obywatelska",
         "orientation": "v",
         "showlegend": false,
         "textposition": "outside",
         "texttemplate": "%{y:.2f}%",
         "type": "bar",
         "x": [
          "Koalicja Obywatelska"
         ],
         "xaxis": "x",
         "y": [
          94.77611940298507
         ],
         "yaxis": "y"
        },
        {
         "alignmentgroup": "True",
         "hovertemplate": "Party: %{x}<br>Percentage: %{y:.2f}%",
         "legendgroup": "Prawo i Sprawiedliwość",
         "marker": {
          "color": "#FFA15A",
          "pattern": {
           "shape": ""
          }
         },
         "name": "",
         "offsetgroup": "Prawo i Sprawiedliwość",
         "orientation": "v",
         "showlegend": false,
         "textposition": "outside",
         "texttemplate": "%{y:.2f}%",
         "type": "bar",
         "x": [
          "Prawo i Sprawiedliwość"
         ],
         "xaxis": "x",
         "y": [
          91.91489361702128
         ],
         "yaxis": "y"
        },
        {
         "alignmentgroup": "True",
         "hovertemplate": "Party: %{x}<br>Percentage: %{y:.2f}%",
         "legendgroup": "Konfederacja Wolność i Niepodległość",
         "marker": {
          "color": "#19d3f3",
          "pattern": {
           "shape": ""
          }
         },
         "name": "",
         "offsetgroup": "Konfederacja Wolność i Niepodległość",
         "orientation": "v",
         "showlegend": false,
         "textposition": "outside",
         "texttemplate": "%{y:.2f}%",
         "type": "bar",
         "x": [
          "Konfederacja Wolność i Niepodległość"
         ],
         "xaxis": "x",
         "y": [
          72.72727272727273
         ],
         "yaxis": "y"
        }
       ],
       "layout": {
        "barmode": "relative",
        "height": 600,
        "legend": {
         "title": {
          "text": "party_list"
         },
         "tracegroupgap": 0
        },
        "margin": {
         "t": 60
        },
        "template": {
         "data": {
          "bar": [
           {
            "error_x": {
             "color": "#2a3f5f"
            },
            "error_y": {
             "color": "#2a3f5f"
            },
            "marker": {
             "line": {
              "color": "#E5ECF6",
              "width": 0.5
             },
             "pattern": {
              "fillmode": "overlay",
              "size": 10,
              "solidity": 0.2
             }
            },
            "type": "bar"
           }
          ],
          "barpolar": [
           {
            "marker": {
             "line": {
              "color": "#E5ECF6",
              "width": 0.5
             },
             "pattern": {
              "fillmode": "overlay",
              "size": 10,
              "solidity": 0.2
             }
            },
            "type": "barpolar"
           }
          ],
          "carpet": [
           {
            "aaxis": {
             "endlinecolor": "#2a3f5f",
             "gridcolor": "white",
             "linecolor": "white",
             "minorgridcolor": "white",
             "startlinecolor": "#2a3f5f"
            },
            "baxis": {
             "endlinecolor": "#2a3f5f",
             "gridcolor": "white",
             "linecolor": "white",
             "minorgridcolor": "white",
             "startlinecolor": "#2a3f5f"
            },
            "type": "carpet"
           }
          ],
          "choropleth": [
           {
            "colorbar": {
             "outlinewidth": 0,
             "ticks": ""
            },
            "type": "choropleth"
           }
          ],
          "contour": [
           {
            "colorbar": {
             "outlinewidth": 0,
             "ticks": ""
            },
            "colorscale": [
             [
              0,
              "#0d0887"
             ],
             [
              0.1111111111111111,
              "#46039f"
             ],
             [
              0.2222222222222222,
              "#7201a8"
             ],
             [
              0.3333333333333333,
              "#9c179e"
             ],
             [
              0.4444444444444444,
              "#bd3786"
             ],
             [
              0.5555555555555556,
              "#d8576b"
             ],
             [
              0.6666666666666666,
              "#ed7953"
             ],
             [
              0.7777777777777778,
              "#fb9f3a"
             ],
             [
              0.8888888888888888,
              "#fdca26"
             ],
             [
              1,
              "#f0f921"
             ]
            ],
            "type": "contour"
           }
          ],
          "contourcarpet": [
           {
            "colorbar": {
             "outlinewidth": 0,
             "ticks": ""
            },
            "type": "contourcarpet"
           }
          ],
          "heatmap": [
           {
            "colorbar": {
             "outlinewidth": 0,
             "ticks": ""
            },
            "colorscale": [
             [
              0,
              "#0d0887"
             ],
             [
              0.1111111111111111,
              "#46039f"
             ],
             [
              0.2222222222222222,
              "#7201a8"
             ],
             [
              0.3333333333333333,
              "#9c179e"
             ],
             [
              0.4444444444444444,
              "#bd3786"
             ],
             [
              0.5555555555555556,
              "#d8576b"
             ],
             [
              0.6666666666666666,
              "#ed7953"
             ],
             [
              0.7777777777777778,
              "#fb9f3a"
             ],
             [
              0.8888888888888888,
              "#fdca26"
             ],
             [
              1,
              "#f0f921"
             ]
            ],
            "type": "heatmap"
           }
          ],
          "heatmapgl": [
           {
            "colorbar": {
             "outlinewidth": 0,
             "ticks": ""
            },
            "colorscale": [
             [
              0,
              "#0d0887"
             ],
             [
              0.1111111111111111,
              "#46039f"
             ],
             [
              0.2222222222222222,
              "#7201a8"
             ],
             [
              0.3333333333333333,
              "#9c179e"
             ],
             [
              0.4444444444444444,
              "#bd3786"
             ],
             [
              0.5555555555555556,
              "#d8576b"
             ],
             [
              0.6666666666666666,
              "#ed7953"
             ],
             [
              0.7777777777777778,
              "#fb9f3a"
             ],
             [
              0.8888888888888888,
              "#fdca26"
             ],
             [
              1,
              "#f0f921"
             ]
            ],
            "type": "heatmapgl"
           }
          ],
          "histogram": [
           {
            "marker": {
             "pattern": {
              "fillmode": "overlay",
              "size": 10,
              "solidity": 0.2
             }
            },
            "type": "histogram"
           }
          ],
          "histogram2d": [
           {
            "colorbar": {
             "outlinewidth": 0,
             "ticks": ""
            },
            "colorscale": [
             [
              0,
              "#0d0887"
             ],
             [
              0.1111111111111111,
              "#46039f"
             ],
             [
              0.2222222222222222,
              "#7201a8"
             ],
             [
              0.3333333333333333,
              "#9c179e"
             ],
             [
              0.4444444444444444,
              "#bd3786"
             ],
             [
              0.5555555555555556,
              "#d8576b"
             ],
             [
              0.6666666666666666,
              "#ed7953"
             ],
             [
              0.7777777777777778,
              "#fb9f3a"
             ],
             [
              0.8888888888888888,
              "#fdca26"
             ],
             [
              1,
              "#f0f921"
             ]
            ],
            "type": "histogram2d"
           }
          ],
          "histogram2dcontour": [
           {
            "colorbar": {
             "outlinewidth": 0,
             "ticks": ""
            },
            "colorscale": [
             [
              0,
              "#0d0887"
             ],
             [
              0.1111111111111111,
              "#46039f"
             ],
             [
              0.2222222222222222,
              "#7201a8"
             ],
             [
              0.3333333333333333,
              "#9c179e"
             ],
             [
              0.4444444444444444,
              "#bd3786"
             ],
             [
              0.5555555555555556,
              "#d8576b"
             ],
             [
              0.6666666666666666,
              "#ed7953"
             ],
             [
              0.7777777777777778,
              "#fb9f3a"
             ],
             [
              0.8888888888888888,
              "#fdca26"
             ],
             [
              1,
              "#f0f921"
             ]
            ],
            "type": "histogram2dcontour"
           }
          ],
          "mesh3d": [
           {
            "colorbar": {
             "outlinewidth": 0,
             "ticks": ""
            },
            "type": "mesh3d"
           }
          ],
          "parcoords": [
           {
            "line": {
             "colorbar": {
              "outlinewidth": 0,
              "ticks": ""
             }
            },
            "type": "parcoords"
           }
          ],
          "pie": [
           {
            "automargin": true,
            "type": "pie"
           }
          ],
          "scatter": [
           {
            "fillpattern": {
             "fillmode": "overlay",
             "size": 10,
             "solidity": 0.2
            },
            "type": "scatter"
           }
          ],
          "scatter3d": [
           {
            "line": {
             "colorbar": {
              "outlinewidth": 0,
              "ticks": ""
             }
            },
            "marker": {
             "colorbar": {
              "outlinewidth": 0,
              "ticks": ""
             }
            },
            "type": "scatter3d"
           }
          ],
          "scattercarpet": [
           {
            "marker": {
             "colorbar": {
              "outlinewidth": 0,
              "ticks": ""
             }
            },
            "type": "scattercarpet"
           }
          ],
          "scattergeo": [
           {
            "marker": {
             "colorbar": {
              "outlinewidth": 0,
              "ticks": ""
             }
            },
            "type": "scattergeo"
           }
          ],
          "scattergl": [
           {
            "marker": {
             "colorbar": {
              "outlinewidth": 0,
              "ticks": ""
             }
            },
            "type": "scattergl"
           }
          ],
          "scattermapbox": [
           {
            "marker": {
             "colorbar": {
              "outlinewidth": 0,
              "ticks": ""
             }
            },
            "type": "scattermapbox"
           }
          ],
          "scatterpolar": [
           {
            "marker": {
             "colorbar": {
              "outlinewidth": 0,
              "ticks": ""
             }
            },
            "type": "scatterpolar"
           }
          ],
          "scatterpolargl": [
           {
            "marker": {
             "colorbar": {
              "outlinewidth": 0,
              "ticks": ""
             }
            },
            "type": "scatterpolargl"
           }
          ],
          "scatterternary": [
           {
            "marker": {
             "colorbar": {
              "outlinewidth": 0,
              "ticks": ""
             }
            },
            "type": "scatterternary"
           }
          ],
          "surface": [
           {
            "colorbar": {
             "outlinewidth": 0,
             "ticks": ""
            },
            "colorscale": [
             [
              0,
              "#0d0887"
             ],
             [
              0.1111111111111111,
              "#46039f"
             ],
             [
              0.2222222222222222,
              "#7201a8"
             ],
             [
              0.3333333333333333,
              "#9c179e"
             ],
             [
              0.4444444444444444,
              "#bd3786"
             ],
             [
              0.5555555555555556,
              "#d8576b"
             ],
             [
              0.6666666666666666,
              "#ed7953"
             ],
             [
              0.7777777777777778,
              "#fb9f3a"
             ],
             [
              0.8888888888888888,
              "#fdca26"
             ],
             [
              1,
              "#f0f921"
             ]
            ],
            "type": "surface"
           }
          ],
          "table": [
           {
            "cells": {
             "fill": {
              "color": "#EBF0F8"
             },
             "line": {
              "color": "white"
             }
            },
            "header": {
             "fill": {
              "color": "#C8D4E3"
             },
             "line": {
              "color": "white"
             }
            },
            "type": "table"
           }
          ]
         },
         "layout": {
          "annotationdefaults": {
           "arrowcolor": "#2a3f5f",
           "arrowhead": 0,
           "arrowwidth": 1
          },
          "autotypenumbers": "strict",
          "coloraxis": {
           "colorbar": {
            "outlinewidth": 0,
            "ticks": ""
           }
          },
          "colorscale": {
           "diverging": [
            [
             0,
             "#8e0152"
            ],
            [
             0.1,
             "#c51b7d"
            ],
            [
             0.2,
             "#de77ae"
            ],
            [
             0.3,
             "#f1b6da"
            ],
            [
             0.4,
             "#fde0ef"
            ],
            [
             0.5,
             "#f7f7f7"
            ],
            [
             0.6,
             "#e6f5d0"
            ],
            [
             0.7,
             "#b8e186"
            ],
            [
             0.8,
             "#7fbc41"
            ],
            [
             0.9,
             "#4d9221"
            ],
            [
             1,
             "#276419"
            ]
           ],
           "sequential": [
            [
             0,
             "#0d0887"
            ],
            [
             0.1111111111111111,
             "#46039f"
            ],
            [
             0.2222222222222222,
             "#7201a8"
            ],
            [
             0.3333333333333333,
             "#9c179e"
            ],
            [
             0.4444444444444444,
             "#bd3786"
            ],
            [
             0.5555555555555556,
             "#d8576b"
            ],
            [
             0.6666666666666666,
             "#ed7953"
            ],
            [
             0.7777777777777778,
             "#fb9f3a"
            ],
            [
             0.8888888888888888,
             "#fdca26"
            ],
            [
             1,
             "#f0f921"
            ]
           ],
           "sequentialminus": [
            [
             0,
             "#0d0887"
            ],
            [
             0.1111111111111111,
             "#46039f"
            ],
            [
             0.2222222222222222,
             "#7201a8"
            ],
            [
             0.3333333333333333,
             "#9c179e"
            ],
            [
             0.4444444444444444,
             "#bd3786"
            ],
            [
             0.5555555555555556,
             "#d8576b"
            ],
            [
             0.6666666666666666,
             "#ed7953"
            ],
            [
             0.7777777777777778,
             "#fb9f3a"
            ],
            [
             0.8888888888888888,
             "#fdca26"
            ],
            [
             1,
             "#f0f921"
            ]
           ]
          },
          "colorway": [
           "#636efa",
           "#EF553B",
           "#00cc96",
           "#ab63fa",
           "#FFA15A",
           "#19d3f3",
           "#FF6692",
           "#B6E880",
           "#FF97FF",
           "#FECB52"
          ],
          "font": {
           "color": "#2a3f5f"
          },
          "geo": {
           "bgcolor": "white",
           "lakecolor": "white",
           "landcolor": "#E5ECF6",
           "showlakes": true,
           "showland": true,
           "subunitcolor": "white"
          },
          "hoverlabel": {
           "align": "left"
          },
          "hovermode": "closest",
          "mapbox": {
           "style": "light"
          },
          "paper_bgcolor": "white",
          "plot_bgcolor": "#E5ECF6",
          "polar": {
           "angularaxis": {
            "gridcolor": "white",
            "linecolor": "white",
            "ticks": ""
           },
           "bgcolor": "#E5ECF6",
           "radialaxis": {
            "gridcolor": "white",
            "linecolor": "white",
            "ticks": ""
           }
          },
          "scene": {
           "xaxis": {
            "backgroundcolor": "#E5ECF6",
            "gridcolor": "white",
            "gridwidth": 2,
            "linecolor": "white",
            "showbackground": true,
            "ticks": "",
            "zerolinecolor": "white"
           },
           "yaxis": {
            "backgroundcolor": "#E5ECF6",
            "gridcolor": "white",
            "gridwidth": 2,
            "linecolor": "white",
            "showbackground": true,
            "ticks": "",
            "zerolinecolor": "white"
           },
           "zaxis": {
            "backgroundcolor": "#E5ECF6",
            "gridcolor": "white",
            "gridwidth": 2,
            "linecolor": "white",
            "showbackground": true,
            "ticks": "",
            "zerolinecolor": "white"
           }
          },
          "shapedefaults": {
           "line": {
            "color": "#2a3f5f"
           }
          },
          "ternary": {
           "aaxis": {
            "gridcolor": "white",
            "linecolor": "white",
            "ticks": ""
           },
           "baxis": {
            "gridcolor": "white",
            "linecolor": "white",
            "ticks": ""
           },
           "bgcolor": "#E5ECF6",
           "caxis": {
            "gridcolor": "white",
            "linecolor": "white",
            "ticks": ""
           }
          },
          "title": {
           "x": 0.05
          },
          "xaxis": {
           "automargin": true,
           "gridcolor": "white",
           "linecolor": "white",
           "ticks": "",
           "title": {
            "standoff": 15
           },
           "zerolinecolor": "white",
           "zerolinewidth": 2
          },
          "yaxis": {
           "automargin": true,
           "gridcolor": "white",
           "linecolor": "white",
           "ticks": "",
           "title": {
            "standoff": 15
           },
           "zerolinecolor": "white",
           "zerolinewidth": 2
          }
         }
        },
        "title": {
         "text": "Percentage of MPs with higher education"
        },
        "width": 1200,
        "xaxis": {
         "anchor": "y",
         "categoryarray": [
          "Mniejszość Niemiecka",
          "Polskie Stronnictwo Ludowe",
          "Sojusz Lewicy Demokratycznej",
          "Koalicja Obywatelska",
          "Prawo i Sprawiedliwość",
          "Konfederacja Wolność i Niepodległość"
         ],
         "categoryorder": "array",
         "domain": [
          0,
          1
         ],
         "title": {
          "text": "Party"
         }
        },
        "yaxis": {
         "anchor": "x",
         "domain": [
          0,
          1
         ],
         "title": {
          "text": "Percentage"
         }
        }
       }
      }
     },
     "metadata": {},
     "output_type": "display_data"
    }
   ],
   "source": [
    "# chart values of column 'education' by value in column 'party_list'\n",
    "fig = px.histogram(mps, x='party_list', color='education')\n",
    "fig.show()\n",
    "\n",
    "# calculate the percentage of MPs with higher education for each party\n",
    "avg_high = mps.groupby('party_list')['education'].apply(lambda x: (x == 'wyższe').sum() / len(x) * 100)\n",
    "\n",
    "# graph avg_high\n",
    "avg_high = avg_high.sort_values(ascending=False)\n",
    "fig = px.bar(avg_high, x=avg_high.index, y=avg_high.values, color=avg_high.index)\n",
    "# add title\n",
    "fig.update_layout(title_text='Percentage of MPs with higher education')\n",
    "# y_axis_label = Percentage\n",
    "fig.update_yaxes(title_text='Percentage')\n",
    "# x axis label = Party\n",
    "fig.update_xaxes(title_text='Party')\n",
    "# hige legend\n",
    "fig.update_traces(showlegend=False)\n",
    "# change tooltip\n",
    "fig.update_traces(hovertemplate='Party: %{x}<br>Percentage: %{y:.2f}%')\n",
    "# hide name of the trace\n",
    "fig.update_traces(name='')\n",
    "# set size to 1200x800\n",
    "fig.update_layout(width=1200, height=600)\n",
    "\n",
    "# show values above bars\n",
    "fig.update_traces(texttemplate='%{y:.2f}%', textposition='outside')\n",
    "fig.show()\n",
    "\n",
    "# save to png\n",
    "fig.write_image('data/avg_high.png')"
   ]
  },
  {
   "cell_type": "code",
   "execution_count": 8,
   "metadata": {},
   "outputs": [
    {
     "data": {
      "text/html": [
       "<div>\n",
       "<style scoped>\n",
       "    .dataframe tbody tr th:only-of-type {\n",
       "        vertical-align: middle;\n",
       "    }\n",
       "\n",
       "    .dataframe tbody tr th {\n",
       "        vertical-align: top;\n",
       "    }\n",
       "\n",
       "    .dataframe thead th {\n",
       "        text-align: right;\n",
       "    }\n",
       "</style>\n",
       "<table border=\"1\" class=\"dataframe\">\n",
       "  <thead>\n",
       "    <tr style=\"text-align: right;\">\n",
       "      <th></th>\n",
       "      <th>id</th>\n",
       "      <th>name</th>\n",
       "      <th>surname</th>\n",
       "      <th>link</th>\n",
       "      <th>party_list</th>\n",
       "      <th>constituency</th>\n",
       "      <th>elected_date</th>\n",
       "      <th>no_of_votes</th>\n",
       "      <th>oath_date</th>\n",
       "      <th>parliamentary_experience</th>\n",
       "      <th>club</th>\n",
       "      <th>birth_date</th>\n",
       "      <th>education</th>\n",
       "      <th>school</th>\n",
       "      <th>profession</th>\n",
       "      <th>email</th>\n",
       "      <th>sex</th>\n",
       "    </tr>\n",
       "  </thead>\n",
       "  <tbody>\n",
       "    <tr>\n",
       "      <th>0</th>\n",
       "      <td>1</td>\n",
       "      <td>Andrzej</td>\n",
       "      <td>Adamczyk</td>\n",
       "      <td>https://sejm.gov.pl/Sejm9.nsf/posel.xsp?id=001</td>\n",
       "      <td>Prawo i Sprawiedliwość</td>\n",
       "      <td>13  Kraków</td>\n",
       "      <td>13-10-2019</td>\n",
       "      <td>29686</td>\n",
       "      <td>2019-11-12</td>\n",
       "      <td>poseł V kadencji, poseł VI kadencji, poseł VII...</td>\n",
       "      <td>Klub Parlamentarny Prawo i Sprawiedliwość</td>\n",
       "      <td>1959-01-04</td>\n",
       "      <td>wyższe</td>\n",
       "      <td>Społeczna Akademia Nauk w Łodzi, Wydział Zarzą...</td>\n",
       "      <td>parlamentarzysta</td>\n",
       "      <td>Andrzej.Adamczyk@sejm.pl</td>\n",
       "      <td>0</td>\n",
       "    </tr>\n",
       "    <tr>\n",
       "      <th>1</th>\n",
       "      <td>2</td>\n",
       "      <td>Rafał</td>\n",
       "      <td>Adamczyk</td>\n",
       "      <td>https://sejm.gov.pl/Sejm9.nsf/posel.xsp?id=002</td>\n",
       "      <td>Sojusz Lewicy Demokratycznej</td>\n",
       "      <td>32  Katowice</td>\n",
       "      <td>13-10-2019</td>\n",
       "      <td>12148</td>\n",
       "      <td>2019-11-12</td>\n",
       "      <td>brak</td>\n",
       "      <td>Koalicyjny Klub Parlamentarny Lewicy (Nowa Lew...</td>\n",
       "      <td>1974-05-30</td>\n",
       "      <td>wyższe</td>\n",
       "      <td>Politechnika Śląska, Organizacja i Zarządzanie...</td>\n",
       "      <td>samorządowiec</td>\n",
       "      <td>Rafal.Adamczyk@sejm.pl</td>\n",
       "      <td>0</td>\n",
       "    </tr>\n",
       "    <tr>\n",
       "      <th>2</th>\n",
       "      <td>3</td>\n",
       "      <td>Piotr</td>\n",
       "      <td>Adamowicz</td>\n",
       "      <td>https://sejm.gov.pl/Sejm9.nsf/posel.xsp?id=003</td>\n",
       "      <td>Koalicja Obywatelska</td>\n",
       "      <td>25  Gdańsk</td>\n",
       "      <td>13-10-2019</td>\n",
       "      <td>41795</td>\n",
       "      <td>2019-11-12</td>\n",
       "      <td>brak</td>\n",
       "      <td>Klub Parlamentarny Koalicja Obywatelska - Plat...</td>\n",
       "      <td>1961-06-26</td>\n",
       "      <td>średnie ogólne</td>\n",
       "      <td>VI LO Gdańsk (1980)</td>\n",
       "      <td>dziennikarz</td>\n",
       "      <td>Piotr.Adamowicz@sejm.pl</td>\n",
       "      <td>0</td>\n",
       "    </tr>\n",
       "    <tr>\n",
       "      <th>3</th>\n",
       "      <td>4</td>\n",
       "      <td>Romuald</td>\n",
       "      <td>Ajchler</td>\n",
       "      <td>https://sejm.gov.pl/Sejm9.nsf/posel.xsp?id=004</td>\n",
       "      <td>Sojusz Lewicy Demokratycznej</td>\n",
       "      <td>38  Piła</td>\n",
       "      <td>13-10-2019</td>\n",
       "      <td>14438</td>\n",
       "      <td>2019-11-12</td>\n",
       "      <td>poseł II kadencji, poseł III kadencji, poseł I...</td>\n",
       "      <td>Koalicyjny Klub Parlamentarny Lewicy (Nowa Lew...</td>\n",
       "      <td>1949-01-19</td>\n",
       "      <td>średnie zawodowe</td>\n",
       "      <td>Państwowe Technikum Rolnicze, Rolnictwo - tech...</td>\n",
       "      <td>rolnik</td>\n",
       "      <td>Romuald.Ajchler@sejm.pl</td>\n",
       "      <td>0</td>\n",
       "    </tr>\n",
       "    <tr>\n",
       "      <th>4</th>\n",
       "      <td>469</td>\n",
       "      <td>Zbigniew</td>\n",
       "      <td>Ajchler</td>\n",
       "      <td>https://sejm.gov.pl/Sejm9.nsf/posel.xsp?id=469</td>\n",
       "      <td>Koalicja Obywatelska</td>\n",
       "      <td>38  Piła</td>\n",
       "      <td>13-10-2019</td>\n",
       "      <td>6654</td>\n",
       "      <td>2021-06-15</td>\n",
       "      <td>poseł VIII kadencji</td>\n",
       "      <td>Poseł niezrzeszony</td>\n",
       "      <td>1955-11-21</td>\n",
       "      <td>wyższe</td>\n",
       "      <td>Akademia Rolnicza w Poznaniu, Wydział Rolniczy...</td>\n",
       "      <td>przedsiębiorca rolny</td>\n",
       "      <td>Zbigniew.Ajchler@sejm.pl</td>\n",
       "      <td>0</td>\n",
       "    </tr>\n",
       "    <tr>\n",
       "      <th>...</th>\n",
       "      <td>...</td>\n",
       "      <td>...</td>\n",
       "      <td>...</td>\n",
       "      <td>...</td>\n",
       "      <td>...</td>\n",
       "      <td>...</td>\n",
       "      <td>...</td>\n",
       "      <td>...</td>\n",
       "      <td>...</td>\n",
       "      <td>...</td>\n",
       "      <td>...</td>\n",
       "      <td>...</td>\n",
       "      <td>...</td>\n",
       "      <td>...</td>\n",
       "      <td>...</td>\n",
       "      <td>...</td>\n",
       "      <td>...</td>\n",
       "    </tr>\n",
       "    <tr>\n",
       "      <th>455</th>\n",
       "      <td>457</td>\n",
       "      <td>Jacek</td>\n",
       "      <td>Żalek</td>\n",
       "      <td>https://sejm.gov.pl/Sejm9.nsf/posel.xsp?id=457</td>\n",
       "      <td>Prawo i Sprawiedliwość</td>\n",
       "      <td>24  Białystok</td>\n",
       "      <td>13-10-2019</td>\n",
       "      <td>12141</td>\n",
       "      <td>2019-11-12</td>\n",
       "      <td>poseł VI kadencji, poseł VII kadencji, poseł V...</td>\n",
       "      <td>Klub Parlamentarny Prawo i Sprawiedliwość</td>\n",
       "      <td>1973-01-13</td>\n",
       "      <td>wyższe</td>\n",
       "      <td>Uniwersytet w Białymstoku, Wydział Prawa, Nauk...</td>\n",
       "      <td>poseł</td>\n",
       "      <td>Jacek.Zalek@sejm.pl</td>\n",
       "      <td>0</td>\n",
       "    </tr>\n",
       "    <tr>\n",
       "      <th>456</th>\n",
       "      <td>458</td>\n",
       "      <td>Bożena</td>\n",
       "      <td>Żelazowska</td>\n",
       "      <td>https://sejm.gov.pl/Sejm9.nsf/posel.xsp?id=458</td>\n",
       "      <td>Polskie Stronnictwo Ludowe</td>\n",
       "      <td>20  Warszawa</td>\n",
       "      <td>13-10-2019</td>\n",
       "      <td>8665</td>\n",
       "      <td>2019-11-12</td>\n",
       "      <td>brak</td>\n",
       "      <td>Klub Parlamentarny Koalicja Polska - PSL, UED,...</td>\n",
       "      <td>1970-08-23</td>\n",
       "      <td>wyższe</td>\n",
       "      <td>Uniwersytet Marii Curie-Skłodowskiej w Lublini...</td>\n",
       "      <td>politolog</td>\n",
       "      <td>Bozena.Zelazowska@sejm.pl</td>\n",
       "      <td>1</td>\n",
       "    </tr>\n",
       "    <tr>\n",
       "      <th>457</th>\n",
       "      <td>475</td>\n",
       "      <td>Stanisław</td>\n",
       "      <td>Żmijan</td>\n",
       "      <td>https://sejm.gov.pl/Sejm9.nsf/posel.xsp?id=475</td>\n",
       "      <td>Koalicja Obywatelska</td>\n",
       "      <td>7  Chełm</td>\n",
       "      <td>13-10-2019</td>\n",
       "      <td>6621</td>\n",
       "      <td>2023-06-13</td>\n",
       "      <td>poseł IV kadencji, poseł V kadencji, poseł VI ...</td>\n",
       "      <td>Klub Parlamentarny Koalicja Obywatelska - Plat...</td>\n",
       "      <td>1956-12-13</td>\n",
       "      <td>wyższe</td>\n",
       "      <td>Politechnika Lubelska, Wydział Inżynieria Budo...</td>\n",
       "      <td>inżynier budownictwa</td>\n",
       "      <td>Stanislaw.Zmijan@sejm.pl</td>\n",
       "      <td>0</td>\n",
       "    </tr>\n",
       "    <tr>\n",
       "      <th>458</th>\n",
       "      <td>459</td>\n",
       "      <td>Stanisław</td>\n",
       "      <td>Żuk</td>\n",
       "      <td>https://sejm.gov.pl/Sejm9.nsf/posel.xsp?id=459</td>\n",
       "      <td>Polskie Stronnictwo Ludowe</td>\n",
       "      <td>1  Legnica</td>\n",
       "      <td>13-10-2019</td>\n",
       "      <td>7694</td>\n",
       "      <td>2019-11-12</td>\n",
       "      <td>brak</td>\n",
       "      <td>Koło Poselskie Kukiz'15 - Demokracja Bezpośrednia</td>\n",
       "      <td>1954-10-01</td>\n",
       "      <td>wyższe</td>\n",
       "      <td>Akademia Górniczo-Hutnicza w Krakowie, Górnict...</td>\n",
       "      <td>menedżer</td>\n",
       "      <td>Stanislaw.Zuk@sejm.pl</td>\n",
       "      <td>0</td>\n",
       "    </tr>\n",
       "    <tr>\n",
       "      <th>459</th>\n",
       "      <td>460</td>\n",
       "      <td>Anna Maria</td>\n",
       "      <td>Żukowska</td>\n",
       "      <td>https://sejm.gov.pl/Sejm9.nsf/posel.xsp?id=460</td>\n",
       "      <td>Sojusz Lewicy Demokratycznej</td>\n",
       "      <td>19  Warszawa</td>\n",
       "      <td>13-10-2019</td>\n",
       "      <td>18864</td>\n",
       "      <td>2019-11-12</td>\n",
       "      <td>brak</td>\n",
       "      <td>Koalicyjny Klub Parlamentarny Lewicy (Nowa Lew...</td>\n",
       "      <td>1983-06-11</td>\n",
       "      <td>wyższe</td>\n",
       "      <td>Uniwersytet Warszawski, Wydział Neofilologii, ...</td>\n",
       "      <td>prawnik</td>\n",
       "      <td>Anna.Zukowska@sejm.pl</td>\n",
       "      <td>1</td>\n",
       "    </tr>\n",
       "  </tbody>\n",
       "</table>\n",
       "<p>460 rows × 17 columns</p>\n",
       "</div>"
      ],
      "text/plain": [
       "      id        name     surname  \\\n",
       "0      1     Andrzej    Adamczyk   \n",
       "1      2       Rafał    Adamczyk   \n",
       "2      3       Piotr   Adamowicz   \n",
       "3      4     Romuald     Ajchler   \n",
       "4    469    Zbigniew     Ajchler   \n",
       "..   ...         ...         ...   \n",
       "455  457       Jacek       Żalek   \n",
       "456  458      Bożena  Żelazowska   \n",
       "457  475   Stanisław      Żmijan   \n",
       "458  459   Stanisław         Żuk   \n",
       "459  460  Anna Maria    Żukowska   \n",
       "\n",
       "                                               link  \\\n",
       "0    https://sejm.gov.pl/Sejm9.nsf/posel.xsp?id=001   \n",
       "1    https://sejm.gov.pl/Sejm9.nsf/posel.xsp?id=002   \n",
       "2    https://sejm.gov.pl/Sejm9.nsf/posel.xsp?id=003   \n",
       "3    https://sejm.gov.pl/Sejm9.nsf/posel.xsp?id=004   \n",
       "4    https://sejm.gov.pl/Sejm9.nsf/posel.xsp?id=469   \n",
       "..                                              ...   \n",
       "455  https://sejm.gov.pl/Sejm9.nsf/posel.xsp?id=457   \n",
       "456  https://sejm.gov.pl/Sejm9.nsf/posel.xsp?id=458   \n",
       "457  https://sejm.gov.pl/Sejm9.nsf/posel.xsp?id=475   \n",
       "458  https://sejm.gov.pl/Sejm9.nsf/posel.xsp?id=459   \n",
       "459  https://sejm.gov.pl/Sejm9.nsf/posel.xsp?id=460   \n",
       "\n",
       "                       party_list   constituency elected_date  no_of_votes  \\\n",
       "0          Prawo i Sprawiedliwość     13  Kraków   13-10-2019        29686   \n",
       "1    Sojusz Lewicy Demokratycznej   32  Katowice   13-10-2019        12148   \n",
       "2            Koalicja Obywatelska     25  Gdańsk   13-10-2019        41795   \n",
       "3    Sojusz Lewicy Demokratycznej       38  Piła   13-10-2019        14438   \n",
       "4            Koalicja Obywatelska       38  Piła   13-10-2019         6654   \n",
       "..                            ...            ...          ...          ...   \n",
       "455        Prawo i Sprawiedliwość  24  Białystok   13-10-2019        12141   \n",
       "456    Polskie Stronnictwo Ludowe   20  Warszawa   13-10-2019         8665   \n",
       "457          Koalicja Obywatelska       7  Chełm   13-10-2019         6621   \n",
       "458    Polskie Stronnictwo Ludowe     1  Legnica   13-10-2019         7694   \n",
       "459  Sojusz Lewicy Demokratycznej   19  Warszawa   13-10-2019        18864   \n",
       "\n",
       "      oath_date                           parliamentary_experience  \\\n",
       "0    2019-11-12  poseł V kadencji, poseł VI kadencji, poseł VII...   \n",
       "1    2019-11-12                                               brak   \n",
       "2    2019-11-12                                               brak   \n",
       "3    2019-11-12  poseł II kadencji, poseł III kadencji, poseł I...   \n",
       "4    2021-06-15                                poseł VIII kadencji   \n",
       "..          ...                                                ...   \n",
       "455  2019-11-12  poseł VI kadencji, poseł VII kadencji, poseł V...   \n",
       "456  2019-11-12                                               brak   \n",
       "457  2023-06-13  poseł IV kadencji, poseł V kadencji, poseł VI ...   \n",
       "458  2019-11-12                                               brak   \n",
       "459  2019-11-12                                               brak   \n",
       "\n",
       "                                                  club  birth_date  \\\n",
       "0            Klub Parlamentarny Prawo i Sprawiedliwość  1959-01-04   \n",
       "1    Koalicyjny Klub Parlamentarny Lewicy (Nowa Lew...  1974-05-30   \n",
       "2    Klub Parlamentarny Koalicja Obywatelska - Plat...  1961-06-26   \n",
       "3    Koalicyjny Klub Parlamentarny Lewicy (Nowa Lew...  1949-01-19   \n",
       "4                                   Poseł niezrzeszony  1955-11-21   \n",
       "..                                                 ...         ...   \n",
       "455          Klub Parlamentarny Prawo i Sprawiedliwość  1973-01-13   \n",
       "456  Klub Parlamentarny Koalicja Polska - PSL, UED,...  1970-08-23   \n",
       "457  Klub Parlamentarny Koalicja Obywatelska - Plat...  1956-12-13   \n",
       "458  Koło Poselskie Kukiz'15 - Demokracja Bezpośrednia  1954-10-01   \n",
       "459  Koalicyjny Klub Parlamentarny Lewicy (Nowa Lew...  1983-06-11   \n",
       "\n",
       "            education                                             school  \\\n",
       "0              wyższe  Społeczna Akademia Nauk w Łodzi, Wydział Zarzą...   \n",
       "1              wyższe  Politechnika Śląska, Organizacja i Zarządzanie...   \n",
       "2      średnie ogólne                                VI LO Gdańsk (1980)   \n",
       "3    średnie zawodowe  Państwowe Technikum Rolnicze, Rolnictwo - tech...   \n",
       "4              wyższe  Akademia Rolnicza w Poznaniu, Wydział Rolniczy...   \n",
       "..                ...                                                ...   \n",
       "455            wyższe  Uniwersytet w Białymstoku, Wydział Prawa, Nauk...   \n",
       "456            wyższe  Uniwersytet Marii Curie-Skłodowskiej w Lublini...   \n",
       "457            wyższe  Politechnika Lubelska, Wydział Inżynieria Budo...   \n",
       "458            wyższe  Akademia Górniczo-Hutnicza w Krakowie, Górnict...   \n",
       "459            wyższe  Uniwersytet Warszawski, Wydział Neofilologii, ...   \n",
       "\n",
       "               profession                      email  sex  \n",
       "0        parlamentarzysta   Andrzej.Adamczyk@sejm.pl    0  \n",
       "1           samorządowiec     Rafal.Adamczyk@sejm.pl    0  \n",
       "2             dziennikarz    Piotr.Adamowicz@sejm.pl    0  \n",
       "3                  rolnik    Romuald.Ajchler@sejm.pl    0  \n",
       "4    przedsiębiorca rolny   Zbigniew.Ajchler@sejm.pl    0  \n",
       "..                    ...                        ...  ...  \n",
       "455                 poseł        Jacek.Zalek@sejm.pl    0  \n",
       "456             politolog  Bozena.Zelazowska@sejm.pl    1  \n",
       "457  inżynier budownictwa   Stanislaw.Zmijan@sejm.pl    0  \n",
       "458              menedżer      Stanislaw.Zuk@sejm.pl    0  \n",
       "459               prawnik      Anna.Zukowska@sejm.pl    1  \n",
       "\n",
       "[460 rows x 17 columns]"
      ]
     },
     "execution_count": 8,
     "metadata": {},
     "output_type": "execute_result"
    }
   ],
   "source": [
    "# add column 'sex' to mps -> detect if last letter of name is 'a' -> then woman\n",
    "mps['sex'] = [1 if x[-1] == 'a' else 0 for x in mps['name']]\n",
    "mps\n",
    "\n"
   ]
  },
  {
   "cell_type": "code",
   "execution_count": 9,
   "metadata": {},
   "outputs": [
    {
     "data": {
      "text/plain": [
       "131"
      ]
     },
     "execution_count": 9,
     "metadata": {},
     "output_type": "execute_result"
    }
   ],
   "source": [
    "# how many women are in parliament -> column 'sex' == 1\n",
    "mps['sex'].sum()"
   ]
  },
  {
   "cell_type": "code",
   "execution_count": 10,
   "metadata": {},
   "outputs": [
    {
     "data": {
      "application/vnd.plotly.v1+json": {
       "config": {
        "plotlyServerURL": "https://plot.ly"
       },
       "data": [
        {
         "alignmentgroup": "True",
         "hovertemplate": "Party: %{x}<br>Percentage: %{y:.2f}%",
         "legendgroup": "Sojusz Lewicy Demokratycznej",
         "marker": {
          "color": "#636efa",
          "pattern": {
           "shape": ""
          }
         },
         "name": "",
         "offsetgroup": "Sojusz Lewicy Demokratycznej",
         "orientation": "v",
         "showlegend": false,
         "textposition": "outside",
         "texttemplate": "%{y:.2f}%",
         "type": "bar",
         "x": [
          "Sojusz Lewicy Demokratycznej"
         ],
         "xaxis": "x",
         "y": [
          42.857142857142854
         ],
         "yaxis": "y"
        },
        {
         "alignmentgroup": "True",
         "hovertemplate": "Party: %{x}<br>Percentage: %{y:.2f}%",
         "legendgroup": "Koalicja Obywatelska",
         "marker": {
          "color": "#EF553B",
          "pattern": {
           "shape": ""
          }
         },
         "name": "",
         "offsetgroup": "Koalicja Obywatelska",
         "orientation": "v",
         "showlegend": false,
         "textposition": "outside",
         "texttemplate": "%{y:.2f}%",
         "type": "bar",
         "x": [
          "Koalicja Obywatelska"
         ],
         "xaxis": "x",
         "y": [
          37.3134328358209
         ],
         "yaxis": "y"
        },
        {
         "alignmentgroup": "True",
         "hovertemplate": "Party: %{x}<br>Percentage: %{y:.2f}%",
         "legendgroup": "Prawo i Sprawiedliwość",
         "marker": {
          "color": "#00cc96",
          "pattern": {
           "shape": ""
          }
         },
         "name": "",
         "offsetgroup": "Prawo i Sprawiedliwość",
         "orientation": "v",
         "showlegend": false,
         "textposition": "outside",
         "texttemplate": "%{y:.2f}%",
         "type": "bar",
         "x": [
          "Prawo i Sprawiedliwość"
         ],
         "xaxis": "x",
         "y": [
          23.829787234042556
         ],
         "yaxis": "y"
        },
        {
         "alignmentgroup": "True",
         "hovertemplate": "Party: %{x}<br>Percentage: %{y:.2f}%",
         "legendgroup": "Polskie Stronnictwo Ludowe",
         "marker": {
          "color": "#ab63fa",
          "pattern": {
           "shape": ""
          }
         },
         "name": "",
         "offsetgroup": "Polskie Stronnictwo Ludowe",
         "orientation": "v",
         "showlegend": false,
         "textposition": "outside",
         "texttemplate": "%{y:.2f}%",
         "type": "bar",
         "x": [
          "Polskie Stronnictwo Ludowe"
         ],
         "xaxis": "x",
         "y": [
          13.333333333333334
         ],
         "yaxis": "y"
        },
        {
         "alignmentgroup": "True",
         "hovertemplate": "Party: %{x}<br>Percentage: %{y:.2f}%",
         "legendgroup": "Konfederacja Wolność i Niepodległość",
         "marker": {
          "color": "#FFA15A",
          "pattern": {
           "shape": ""
          }
         },
         "name": "",
         "offsetgroup": "Konfederacja Wolność i Niepodległość",
         "orientation": "v",
         "showlegend": false,
         "textposition": "outside",
         "texttemplate": "%{y:.2f}%",
         "type": "bar",
         "x": [
          "Konfederacja Wolność i Niepodległość"
         ],
         "xaxis": "x",
         "y": [
          0
         ],
         "yaxis": "y"
        },
        {
         "alignmentgroup": "True",
         "hovertemplate": "Party: %{x}<br>Percentage: %{y:.2f}%",
         "legendgroup": "Mniejszość Niemiecka",
         "marker": {
          "color": "#19d3f3",
          "pattern": {
           "shape": ""
          }
         },
         "name": "",
         "offsetgroup": "Mniejszość Niemiecka",
         "orientation": "v",
         "showlegend": false,
         "textposition": "outside",
         "texttemplate": "%{y:.2f}%",
         "type": "bar",
         "x": [
          "Mniejszość Niemiecka"
         ],
         "xaxis": "x",
         "y": [
          0
         ],
         "yaxis": "y"
        }
       ],
       "layout": {
        "barmode": "relative",
        "height": 600,
        "legend": {
         "title": {
          "text": "party_list"
         },
         "tracegroupgap": 0
        },
        "margin": {
         "t": 60
        },
        "template": {
         "data": {
          "bar": [
           {
            "error_x": {
             "color": "#2a3f5f"
            },
            "error_y": {
             "color": "#2a3f5f"
            },
            "marker": {
             "line": {
              "color": "#E5ECF6",
              "width": 0.5
             },
             "pattern": {
              "fillmode": "overlay",
              "size": 10,
              "solidity": 0.2
             }
            },
            "type": "bar"
           }
          ],
          "barpolar": [
           {
            "marker": {
             "line": {
              "color": "#E5ECF6",
              "width": 0.5
             },
             "pattern": {
              "fillmode": "overlay",
              "size": 10,
              "solidity": 0.2
             }
            },
            "type": "barpolar"
           }
          ],
          "carpet": [
           {
            "aaxis": {
             "endlinecolor": "#2a3f5f",
             "gridcolor": "white",
             "linecolor": "white",
             "minorgridcolor": "white",
             "startlinecolor": "#2a3f5f"
            },
            "baxis": {
             "endlinecolor": "#2a3f5f",
             "gridcolor": "white",
             "linecolor": "white",
             "minorgridcolor": "white",
             "startlinecolor": "#2a3f5f"
            },
            "type": "carpet"
           }
          ],
          "choropleth": [
           {
            "colorbar": {
             "outlinewidth": 0,
             "ticks": ""
            },
            "type": "choropleth"
           }
          ],
          "contour": [
           {
            "colorbar": {
             "outlinewidth": 0,
             "ticks": ""
            },
            "colorscale": [
             [
              0,
              "#0d0887"
             ],
             [
              0.1111111111111111,
              "#46039f"
             ],
             [
              0.2222222222222222,
              "#7201a8"
             ],
             [
              0.3333333333333333,
              "#9c179e"
             ],
             [
              0.4444444444444444,
              "#bd3786"
             ],
             [
              0.5555555555555556,
              "#d8576b"
             ],
             [
              0.6666666666666666,
              "#ed7953"
             ],
             [
              0.7777777777777778,
              "#fb9f3a"
             ],
             [
              0.8888888888888888,
              "#fdca26"
             ],
             [
              1,
              "#f0f921"
             ]
            ],
            "type": "contour"
           }
          ],
          "contourcarpet": [
           {
            "colorbar": {
             "outlinewidth": 0,
             "ticks": ""
            },
            "type": "contourcarpet"
           }
          ],
          "heatmap": [
           {
            "colorbar": {
             "outlinewidth": 0,
             "ticks": ""
            },
            "colorscale": [
             [
              0,
              "#0d0887"
             ],
             [
              0.1111111111111111,
              "#46039f"
             ],
             [
              0.2222222222222222,
              "#7201a8"
             ],
             [
              0.3333333333333333,
              "#9c179e"
             ],
             [
              0.4444444444444444,
              "#bd3786"
             ],
             [
              0.5555555555555556,
              "#d8576b"
             ],
             [
              0.6666666666666666,
              "#ed7953"
             ],
             [
              0.7777777777777778,
              "#fb9f3a"
             ],
             [
              0.8888888888888888,
              "#fdca26"
             ],
             [
              1,
              "#f0f921"
             ]
            ],
            "type": "heatmap"
           }
          ],
          "heatmapgl": [
           {
            "colorbar": {
             "outlinewidth": 0,
             "ticks": ""
            },
            "colorscale": [
             [
              0,
              "#0d0887"
             ],
             [
              0.1111111111111111,
              "#46039f"
             ],
             [
              0.2222222222222222,
              "#7201a8"
             ],
             [
              0.3333333333333333,
              "#9c179e"
             ],
             [
              0.4444444444444444,
              "#bd3786"
             ],
             [
              0.5555555555555556,
              "#d8576b"
             ],
             [
              0.6666666666666666,
              "#ed7953"
             ],
             [
              0.7777777777777778,
              "#fb9f3a"
             ],
             [
              0.8888888888888888,
              "#fdca26"
             ],
             [
              1,
              "#f0f921"
             ]
            ],
            "type": "heatmapgl"
           }
          ],
          "histogram": [
           {
            "marker": {
             "pattern": {
              "fillmode": "overlay",
              "size": 10,
              "solidity": 0.2
             }
            },
            "type": "histogram"
           }
          ],
          "histogram2d": [
           {
            "colorbar": {
             "outlinewidth": 0,
             "ticks": ""
            },
            "colorscale": [
             [
              0,
              "#0d0887"
             ],
             [
              0.1111111111111111,
              "#46039f"
             ],
             [
              0.2222222222222222,
              "#7201a8"
             ],
             [
              0.3333333333333333,
              "#9c179e"
             ],
             [
              0.4444444444444444,
              "#bd3786"
             ],
             [
              0.5555555555555556,
              "#d8576b"
             ],
             [
              0.6666666666666666,
              "#ed7953"
             ],
             [
              0.7777777777777778,
              "#fb9f3a"
             ],
             [
              0.8888888888888888,
              "#fdca26"
             ],
             [
              1,
              "#f0f921"
             ]
            ],
            "type": "histogram2d"
           }
          ],
          "histogram2dcontour": [
           {
            "colorbar": {
             "outlinewidth": 0,
             "ticks": ""
            },
            "colorscale": [
             [
              0,
              "#0d0887"
             ],
             [
              0.1111111111111111,
              "#46039f"
             ],
             [
              0.2222222222222222,
              "#7201a8"
             ],
             [
              0.3333333333333333,
              "#9c179e"
             ],
             [
              0.4444444444444444,
              "#bd3786"
             ],
             [
              0.5555555555555556,
              "#d8576b"
             ],
             [
              0.6666666666666666,
              "#ed7953"
             ],
             [
              0.7777777777777778,
              "#fb9f3a"
             ],
             [
              0.8888888888888888,
              "#fdca26"
             ],
             [
              1,
              "#f0f921"
             ]
            ],
            "type": "histogram2dcontour"
           }
          ],
          "mesh3d": [
           {
            "colorbar": {
             "outlinewidth": 0,
             "ticks": ""
            },
            "type": "mesh3d"
           }
          ],
          "parcoords": [
           {
            "line": {
             "colorbar": {
              "outlinewidth": 0,
              "ticks": ""
             }
            },
            "type": "parcoords"
           }
          ],
          "pie": [
           {
            "automargin": true,
            "type": "pie"
           }
          ],
          "scatter": [
           {
            "fillpattern": {
             "fillmode": "overlay",
             "size": 10,
             "solidity": 0.2
            },
            "type": "scatter"
           }
          ],
          "scatter3d": [
           {
            "line": {
             "colorbar": {
              "outlinewidth": 0,
              "ticks": ""
             }
            },
            "marker": {
             "colorbar": {
              "outlinewidth": 0,
              "ticks": ""
             }
            },
            "type": "scatter3d"
           }
          ],
          "scattercarpet": [
           {
            "marker": {
             "colorbar": {
              "outlinewidth": 0,
              "ticks": ""
             }
            },
            "type": "scattercarpet"
           }
          ],
          "scattergeo": [
           {
            "marker": {
             "colorbar": {
              "outlinewidth": 0,
              "ticks": ""
             }
            },
            "type": "scattergeo"
           }
          ],
          "scattergl": [
           {
            "marker": {
             "colorbar": {
              "outlinewidth": 0,
              "ticks": ""
             }
            },
            "type": "scattergl"
           }
          ],
          "scattermapbox": [
           {
            "marker": {
             "colorbar": {
              "outlinewidth": 0,
              "ticks": ""
             }
            },
            "type": "scattermapbox"
           }
          ],
          "scatterpolar": [
           {
            "marker": {
             "colorbar": {
              "outlinewidth": 0,
              "ticks": ""
             }
            },
            "type": "scatterpolar"
           }
          ],
          "scatterpolargl": [
           {
            "marker": {
             "colorbar": {
              "outlinewidth": 0,
              "ticks": ""
             }
            },
            "type": "scatterpolargl"
           }
          ],
          "scatterternary": [
           {
            "marker": {
             "colorbar": {
              "outlinewidth": 0,
              "ticks": ""
             }
            },
            "type": "scatterternary"
           }
          ],
          "surface": [
           {
            "colorbar": {
             "outlinewidth": 0,
             "ticks": ""
            },
            "colorscale": [
             [
              0,
              "#0d0887"
             ],
             [
              0.1111111111111111,
              "#46039f"
             ],
             [
              0.2222222222222222,
              "#7201a8"
             ],
             [
              0.3333333333333333,
              "#9c179e"
             ],
             [
              0.4444444444444444,
              "#bd3786"
             ],
             [
              0.5555555555555556,
              "#d8576b"
             ],
             [
              0.6666666666666666,
              "#ed7953"
             ],
             [
              0.7777777777777778,
              "#fb9f3a"
             ],
             [
              0.8888888888888888,
              "#fdca26"
             ],
             [
              1,
              "#f0f921"
             ]
            ],
            "type": "surface"
           }
          ],
          "table": [
           {
            "cells": {
             "fill": {
              "color": "#EBF0F8"
             },
             "line": {
              "color": "white"
             }
            },
            "header": {
             "fill": {
              "color": "#C8D4E3"
             },
             "line": {
              "color": "white"
             }
            },
            "type": "table"
           }
          ]
         },
         "layout": {
          "annotationdefaults": {
           "arrowcolor": "#2a3f5f",
           "arrowhead": 0,
           "arrowwidth": 1
          },
          "autotypenumbers": "strict",
          "coloraxis": {
           "colorbar": {
            "outlinewidth": 0,
            "ticks": ""
           }
          },
          "colorscale": {
           "diverging": [
            [
             0,
             "#8e0152"
            ],
            [
             0.1,
             "#c51b7d"
            ],
            [
             0.2,
             "#de77ae"
            ],
            [
             0.3,
             "#f1b6da"
            ],
            [
             0.4,
             "#fde0ef"
            ],
            [
             0.5,
             "#f7f7f7"
            ],
            [
             0.6,
             "#e6f5d0"
            ],
            [
             0.7,
             "#b8e186"
            ],
            [
             0.8,
             "#7fbc41"
            ],
            [
             0.9,
             "#4d9221"
            ],
            [
             1,
             "#276419"
            ]
           ],
           "sequential": [
            [
             0,
             "#0d0887"
            ],
            [
             0.1111111111111111,
             "#46039f"
            ],
            [
             0.2222222222222222,
             "#7201a8"
            ],
            [
             0.3333333333333333,
             "#9c179e"
            ],
            [
             0.4444444444444444,
             "#bd3786"
            ],
            [
             0.5555555555555556,
             "#d8576b"
            ],
            [
             0.6666666666666666,
             "#ed7953"
            ],
            [
             0.7777777777777778,
             "#fb9f3a"
            ],
            [
             0.8888888888888888,
             "#fdca26"
            ],
            [
             1,
             "#f0f921"
            ]
           ],
           "sequentialminus": [
            [
             0,
             "#0d0887"
            ],
            [
             0.1111111111111111,
             "#46039f"
            ],
            [
             0.2222222222222222,
             "#7201a8"
            ],
            [
             0.3333333333333333,
             "#9c179e"
            ],
            [
             0.4444444444444444,
             "#bd3786"
            ],
            [
             0.5555555555555556,
             "#d8576b"
            ],
            [
             0.6666666666666666,
             "#ed7953"
            ],
            [
             0.7777777777777778,
             "#fb9f3a"
            ],
            [
             0.8888888888888888,
             "#fdca26"
            ],
            [
             1,
             "#f0f921"
            ]
           ]
          },
          "colorway": [
           "#636efa",
           "#EF553B",
           "#00cc96",
           "#ab63fa",
           "#FFA15A",
           "#19d3f3",
           "#FF6692",
           "#B6E880",
           "#FF97FF",
           "#FECB52"
          ],
          "font": {
           "color": "#2a3f5f"
          },
          "geo": {
           "bgcolor": "white",
           "lakecolor": "white",
           "landcolor": "#E5ECF6",
           "showlakes": true,
           "showland": true,
           "subunitcolor": "white"
          },
          "hoverlabel": {
           "align": "left"
          },
          "hovermode": "closest",
          "mapbox": {
           "style": "light"
          },
          "paper_bgcolor": "white",
          "plot_bgcolor": "#E5ECF6",
          "polar": {
           "angularaxis": {
            "gridcolor": "white",
            "linecolor": "white",
            "ticks": ""
           },
           "bgcolor": "#E5ECF6",
           "radialaxis": {
            "gridcolor": "white",
            "linecolor": "white",
            "ticks": ""
           }
          },
          "scene": {
           "xaxis": {
            "backgroundcolor": "#E5ECF6",
            "gridcolor": "white",
            "gridwidth": 2,
            "linecolor": "white",
            "showbackground": true,
            "ticks": "",
            "zerolinecolor": "white"
           },
           "yaxis": {
            "backgroundcolor": "#E5ECF6",
            "gridcolor": "white",
            "gridwidth": 2,
            "linecolor": "white",
            "showbackground": true,
            "ticks": "",
            "zerolinecolor": "white"
           },
           "zaxis": {
            "backgroundcolor": "#E5ECF6",
            "gridcolor": "white",
            "gridwidth": 2,
            "linecolor": "white",
            "showbackground": true,
            "ticks": "",
            "zerolinecolor": "white"
           }
          },
          "shapedefaults": {
           "line": {
            "color": "#2a3f5f"
           }
          },
          "ternary": {
           "aaxis": {
            "gridcolor": "white",
            "linecolor": "white",
            "ticks": ""
           },
           "baxis": {
            "gridcolor": "white",
            "linecolor": "white",
            "ticks": ""
           },
           "bgcolor": "#E5ECF6",
           "caxis": {
            "gridcolor": "white",
            "linecolor": "white",
            "ticks": ""
           }
          },
          "title": {
           "x": 0.05
          },
          "xaxis": {
           "automargin": true,
           "gridcolor": "white",
           "linecolor": "white",
           "ticks": "",
           "title": {
            "standoff": 15
           },
           "zerolinecolor": "white",
           "zerolinewidth": 2
          },
          "yaxis": {
           "automargin": true,
           "gridcolor": "white",
           "linecolor": "white",
           "ticks": "",
           "title": {
            "standoff": 15
           },
           "zerolinecolor": "white",
           "zerolinewidth": 2
          }
         }
        },
        "title": {
         "text": "Percentage of women in parties"
        },
        "width": 1200,
        "xaxis": {
         "anchor": "y",
         "categoryarray": [
          "Sojusz Lewicy Demokratycznej",
          "Koalicja Obywatelska",
          "Prawo i Sprawiedliwość",
          "Polskie Stronnictwo Ludowe",
          "Konfederacja Wolność i Niepodległość",
          "Mniejszość Niemiecka"
         ],
         "categoryorder": "array",
         "domain": [
          0,
          1
         ],
         "title": {
          "text": "Party"
         }
        },
        "yaxis": {
         "anchor": "x",
         "domain": [
          0,
          1
         ],
         "title": {
          "text": "Percentage"
         }
        }
       }
      }
     },
     "metadata": {},
     "output_type": "display_data"
    }
   ],
   "source": [
    "# group by party_list\n",
    "prt = mps.groupby('party_list')\n",
    "\n",
    "\n",
    "# unique party_list\n",
    "mps['party_list'].unique()\n",
    "\n",
    "# how many women in each party\n",
    "wmn_num = mps['sex'].groupby(mps['party_list']).sum()\n",
    "wmn_num\n",
    "\n",
    "# percentage of women\n",
    "wmn_per = wmn_num / prt.size() * 100\n",
    "wmn_per\n",
    "\n",
    "wmn_per = wmn_per.sort_values(ascending=False)\n",
    "\n",
    "\n",
    "# graph\n",
    "fig = px.bar(wmn_per, x=wmn_per.index, y=wmn_per.values, color=wmn_per.index)\n",
    "# graph avg_high\n",
    "# add title\n",
    "fig.update_layout(title_text='Percentage of women in parties')\n",
    "# y_axis_label = Percentage\n",
    "fig.update_yaxes(title_text='Percentage')\n",
    "# x axis label = Party\n",
    "fig.update_xaxes(title_text='Party')\n",
    "# hige legend\n",
    "fig.update_traces(showlegend=False)\n",
    "# change tooltip\n",
    "fig.update_traces(hovertemplate='Party: %{x}<br>Percentage: %{y:.2f}%')\n",
    "# hide name of the trace\n",
    "fig.update_traces(name='')\n",
    "# set size to 1200x800\n",
    "fig.update_layout(width=1200, height=600)\n",
    "\n",
    "# show values above bars\n",
    "fig.update_traces(texttemplate='%{y:.2f}%', textposition='outside')\n",
    "fig.show()\n",
    "\n",
    "# save to png\n",
    "fig.write_image('data/wmn_pct.png')\n"
   ]
  },
  {
   "cell_type": "code",
   "execution_count": 11,
   "metadata": {},
   "outputs": [
    {
     "data": {
      "application/vnd.plotly.v1+json": {
       "config": {
        "plotlyServerURL": "https://plot.ly"
       },
       "data": [
        {
         "alignmentgroup": "True",
         "hovertemplate": "Party: %{x}<br>Age: %{y:.2f}",
         "legendgroup": "Mniejszość Niemiecka",
         "marker": {
          "color": "#636efa",
          "pattern": {
           "shape": ""
          }
         },
         "name": "",
         "offsetgroup": "Mniejszość Niemiecka",
         "orientation": "v",
         "showlegend": false,
         "textposition": "outside",
         "texttemplate": "%{y:.2f}",
         "type": "bar",
         "x": [
          "Mniejszość Niemiecka"
         ],
         "xaxis": "x",
         "y": [
          67
         ],
         "yaxis": "y"
        },
        {
         "alignmentgroup": "True",
         "hovertemplate": "Party: %{x}<br>Age: %{y:.2f}",
         "legendgroup": "Koalicja Obywatelska",
         "marker": {
          "color": "#EF553B",
          "pattern": {
           "shape": ""
          }
         },
         "name": "",
         "offsetgroup": "Koalicja Obywatelska",
         "orientation": "v",
         "showlegend": false,
         "textposition": "outside",
         "texttemplate": "%{y:.2f}",
         "type": "bar",
         "x": [
          "Koalicja Obywatelska"
         ],
         "xaxis": "x",
         "y": [
          54.76119402985075
         ],
         "yaxis": "y"
        },
        {
         "alignmentgroup": "True",
         "hovertemplate": "Party: %{x}<br>Age: %{y:.2f}",
         "legendgroup": "Prawo i Sprawiedliwość",
         "marker": {
          "color": "#00cc96",
          "pattern": {
           "shape": ""
          }
         },
         "name": "",
         "offsetgroup": "Prawo i Sprawiedliwość",
         "orientation": "v",
         "showlegend": false,
         "textposition": "outside",
         "texttemplate": "%{y:.2f}",
         "type": "bar",
         "x": [
          "Prawo i Sprawiedliwość"
         ],
         "xaxis": "x",
         "y": [
          54.57446808510638
         ],
         "yaxis": "y"
        },
        {
         "alignmentgroup": "True",
         "hovertemplate": "Party: %{x}<br>Age: %{y:.2f}",
         "legendgroup": "Polskie Stronnictwo Ludowe",
         "marker": {
          "color": "#ab63fa",
          "pattern": {
           "shape": ""
          }
         },
         "name": "",
         "offsetgroup": "Polskie Stronnictwo Ludowe",
         "orientation": "v",
         "showlegend": false,
         "textposition": "outside",
         "texttemplate": "%{y:.2f}",
         "type": "bar",
         "x": [
          "Polskie Stronnictwo Ludowe"
         ],
         "xaxis": "x",
         "y": [
          53.93333333333333
         ],
         "yaxis": "y"
        },
        {
         "alignmentgroup": "True",
         "hovertemplate": "Party: %{x}<br>Age: %{y:.2f}",
         "legendgroup": "Sojusz Lewicy Demokratycznej",
         "marker": {
          "color": "#FFA15A",
          "pattern": {
           "shape": ""
          }
         },
         "name": "",
         "offsetgroup": "Sojusz Lewicy Demokratycznej",
         "orientation": "v",
         "showlegend": false,
         "textposition": "outside",
         "texttemplate": "%{y:.2f}",
         "type": "bar",
         "x": [
          "Sojusz Lewicy Demokratycznej"
         ],
         "xaxis": "x",
         "y": [
          52.265306122448976
         ],
         "yaxis": "y"
        },
        {
         "alignmentgroup": "True",
         "hovertemplate": "Party: %{x}<br>Age: %{y:.2f}",
         "legendgroup": "Konfederacja Wolność i Niepodległość",
         "marker": {
          "color": "#19d3f3",
          "pattern": {
           "shape": ""
          }
         },
         "name": "",
         "offsetgroup": "Konfederacja Wolność i Niepodległość",
         "orientation": "v",
         "showlegend": false,
         "textposition": "outside",
         "texttemplate": "%{y:.2f}",
         "type": "bar",
         "x": [
          "Konfederacja Wolność i Niepodległość"
         ],
         "xaxis": "x",
         "y": [
          44.63636363636363
         ],
         "yaxis": "y"
        }
       ],
       "layout": {
        "barmode": "relative",
        "legend": {
         "title": {
          "text": "party_list"
         },
         "tracegroupgap": 0
        },
        "margin": {
         "t": 60
        },
        "template": {
         "data": {
          "bar": [
           {
            "error_x": {
             "color": "#2a3f5f"
            },
            "error_y": {
             "color": "#2a3f5f"
            },
            "marker": {
             "line": {
              "color": "#E5ECF6",
              "width": 0.5
             },
             "pattern": {
              "fillmode": "overlay",
              "size": 10,
              "solidity": 0.2
             }
            },
            "type": "bar"
           }
          ],
          "barpolar": [
           {
            "marker": {
             "line": {
              "color": "#E5ECF6",
              "width": 0.5
             },
             "pattern": {
              "fillmode": "overlay",
              "size": 10,
              "solidity": 0.2
             }
            },
            "type": "barpolar"
           }
          ],
          "carpet": [
           {
            "aaxis": {
             "endlinecolor": "#2a3f5f",
             "gridcolor": "white",
             "linecolor": "white",
             "minorgridcolor": "white",
             "startlinecolor": "#2a3f5f"
            },
            "baxis": {
             "endlinecolor": "#2a3f5f",
             "gridcolor": "white",
             "linecolor": "white",
             "minorgridcolor": "white",
             "startlinecolor": "#2a3f5f"
            },
            "type": "carpet"
           }
          ],
          "choropleth": [
           {
            "colorbar": {
             "outlinewidth": 0,
             "ticks": ""
            },
            "type": "choropleth"
           }
          ],
          "contour": [
           {
            "colorbar": {
             "outlinewidth": 0,
             "ticks": ""
            },
            "colorscale": [
             [
              0,
              "#0d0887"
             ],
             [
              0.1111111111111111,
              "#46039f"
             ],
             [
              0.2222222222222222,
              "#7201a8"
             ],
             [
              0.3333333333333333,
              "#9c179e"
             ],
             [
              0.4444444444444444,
              "#bd3786"
             ],
             [
              0.5555555555555556,
              "#d8576b"
             ],
             [
              0.6666666666666666,
              "#ed7953"
             ],
             [
              0.7777777777777778,
              "#fb9f3a"
             ],
             [
              0.8888888888888888,
              "#fdca26"
             ],
             [
              1,
              "#f0f921"
             ]
            ],
            "type": "contour"
           }
          ],
          "contourcarpet": [
           {
            "colorbar": {
             "outlinewidth": 0,
             "ticks": ""
            },
            "type": "contourcarpet"
           }
          ],
          "heatmap": [
           {
            "colorbar": {
             "outlinewidth": 0,
             "ticks": ""
            },
            "colorscale": [
             [
              0,
              "#0d0887"
             ],
             [
              0.1111111111111111,
              "#46039f"
             ],
             [
              0.2222222222222222,
              "#7201a8"
             ],
             [
              0.3333333333333333,
              "#9c179e"
             ],
             [
              0.4444444444444444,
              "#bd3786"
             ],
             [
              0.5555555555555556,
              "#d8576b"
             ],
             [
              0.6666666666666666,
              "#ed7953"
             ],
             [
              0.7777777777777778,
              "#fb9f3a"
             ],
             [
              0.8888888888888888,
              "#fdca26"
             ],
             [
              1,
              "#f0f921"
             ]
            ],
            "type": "heatmap"
           }
          ],
          "heatmapgl": [
           {
            "colorbar": {
             "outlinewidth": 0,
             "ticks": ""
            },
            "colorscale": [
             [
              0,
              "#0d0887"
             ],
             [
              0.1111111111111111,
              "#46039f"
             ],
             [
              0.2222222222222222,
              "#7201a8"
             ],
             [
              0.3333333333333333,
              "#9c179e"
             ],
             [
              0.4444444444444444,
              "#bd3786"
             ],
             [
              0.5555555555555556,
              "#d8576b"
             ],
             [
              0.6666666666666666,
              "#ed7953"
             ],
             [
              0.7777777777777778,
              "#fb9f3a"
             ],
             [
              0.8888888888888888,
              "#fdca26"
             ],
             [
              1,
              "#f0f921"
             ]
            ],
            "type": "heatmapgl"
           }
          ],
          "histogram": [
           {
            "marker": {
             "pattern": {
              "fillmode": "overlay",
              "size": 10,
              "solidity": 0.2
             }
            },
            "type": "histogram"
           }
          ],
          "histogram2d": [
           {
            "colorbar": {
             "outlinewidth": 0,
             "ticks": ""
            },
            "colorscale": [
             [
              0,
              "#0d0887"
             ],
             [
              0.1111111111111111,
              "#46039f"
             ],
             [
              0.2222222222222222,
              "#7201a8"
             ],
             [
              0.3333333333333333,
              "#9c179e"
             ],
             [
              0.4444444444444444,
              "#bd3786"
             ],
             [
              0.5555555555555556,
              "#d8576b"
             ],
             [
              0.6666666666666666,
              "#ed7953"
             ],
             [
              0.7777777777777778,
              "#fb9f3a"
             ],
             [
              0.8888888888888888,
              "#fdca26"
             ],
             [
              1,
              "#f0f921"
             ]
            ],
            "type": "histogram2d"
           }
          ],
          "histogram2dcontour": [
           {
            "colorbar": {
             "outlinewidth": 0,
             "ticks": ""
            },
            "colorscale": [
             [
              0,
              "#0d0887"
             ],
             [
              0.1111111111111111,
              "#46039f"
             ],
             [
              0.2222222222222222,
              "#7201a8"
             ],
             [
              0.3333333333333333,
              "#9c179e"
             ],
             [
              0.4444444444444444,
              "#bd3786"
             ],
             [
              0.5555555555555556,
              "#d8576b"
             ],
             [
              0.6666666666666666,
              "#ed7953"
             ],
             [
              0.7777777777777778,
              "#fb9f3a"
             ],
             [
              0.8888888888888888,
              "#fdca26"
             ],
             [
              1,
              "#f0f921"
             ]
            ],
            "type": "histogram2dcontour"
           }
          ],
          "mesh3d": [
           {
            "colorbar": {
             "outlinewidth": 0,
             "ticks": ""
            },
            "type": "mesh3d"
           }
          ],
          "parcoords": [
           {
            "line": {
             "colorbar": {
              "outlinewidth": 0,
              "ticks": ""
             }
            },
            "type": "parcoords"
           }
          ],
          "pie": [
           {
            "automargin": true,
            "type": "pie"
           }
          ],
          "scatter": [
           {
            "fillpattern": {
             "fillmode": "overlay",
             "size": 10,
             "solidity": 0.2
            },
            "type": "scatter"
           }
          ],
          "scatter3d": [
           {
            "line": {
             "colorbar": {
              "outlinewidth": 0,
              "ticks": ""
             }
            },
            "marker": {
             "colorbar": {
              "outlinewidth": 0,
              "ticks": ""
             }
            },
            "type": "scatter3d"
           }
          ],
          "scattercarpet": [
           {
            "marker": {
             "colorbar": {
              "outlinewidth": 0,
              "ticks": ""
             }
            },
            "type": "scattercarpet"
           }
          ],
          "scattergeo": [
           {
            "marker": {
             "colorbar": {
              "outlinewidth": 0,
              "ticks": ""
             }
            },
            "type": "scattergeo"
           }
          ],
          "scattergl": [
           {
            "marker": {
             "colorbar": {
              "outlinewidth": 0,
              "ticks": ""
             }
            },
            "type": "scattergl"
           }
          ],
          "scattermapbox": [
           {
            "marker": {
             "colorbar": {
              "outlinewidth": 0,
              "ticks": ""
             }
            },
            "type": "scattermapbox"
           }
          ],
          "scatterpolar": [
           {
            "marker": {
             "colorbar": {
              "outlinewidth": 0,
              "ticks": ""
             }
            },
            "type": "scatterpolar"
           }
          ],
          "scatterpolargl": [
           {
            "marker": {
             "colorbar": {
              "outlinewidth": 0,
              "ticks": ""
             }
            },
            "type": "scatterpolargl"
           }
          ],
          "scatterternary": [
           {
            "marker": {
             "colorbar": {
              "outlinewidth": 0,
              "ticks": ""
             }
            },
            "type": "scatterternary"
           }
          ],
          "surface": [
           {
            "colorbar": {
             "outlinewidth": 0,
             "ticks": ""
            },
            "colorscale": [
             [
              0,
              "#0d0887"
             ],
             [
              0.1111111111111111,
              "#46039f"
             ],
             [
              0.2222222222222222,
              "#7201a8"
             ],
             [
              0.3333333333333333,
              "#9c179e"
             ],
             [
              0.4444444444444444,
              "#bd3786"
             ],
             [
              0.5555555555555556,
              "#d8576b"
             ],
             [
              0.6666666666666666,
              "#ed7953"
             ],
             [
              0.7777777777777778,
              "#fb9f3a"
             ],
             [
              0.8888888888888888,
              "#fdca26"
             ],
             [
              1,
              "#f0f921"
             ]
            ],
            "type": "surface"
           }
          ],
          "table": [
           {
            "cells": {
             "fill": {
              "color": "#EBF0F8"
             },
             "line": {
              "color": "white"
             }
            },
            "header": {
             "fill": {
              "color": "#C8D4E3"
             },
             "line": {
              "color": "white"
             }
            },
            "type": "table"
           }
          ]
         },
         "layout": {
          "annotationdefaults": {
           "arrowcolor": "#2a3f5f",
           "arrowhead": 0,
           "arrowwidth": 1
          },
          "autotypenumbers": "strict",
          "coloraxis": {
           "colorbar": {
            "outlinewidth": 0,
            "ticks": ""
           }
          },
          "colorscale": {
           "diverging": [
            [
             0,
             "#8e0152"
            ],
            [
             0.1,
             "#c51b7d"
            ],
            [
             0.2,
             "#de77ae"
            ],
            [
             0.3,
             "#f1b6da"
            ],
            [
             0.4,
             "#fde0ef"
            ],
            [
             0.5,
             "#f7f7f7"
            ],
            [
             0.6,
             "#e6f5d0"
            ],
            [
             0.7,
             "#b8e186"
            ],
            [
             0.8,
             "#7fbc41"
            ],
            [
             0.9,
             "#4d9221"
            ],
            [
             1,
             "#276419"
            ]
           ],
           "sequential": [
            [
             0,
             "#0d0887"
            ],
            [
             0.1111111111111111,
             "#46039f"
            ],
            [
             0.2222222222222222,
             "#7201a8"
            ],
            [
             0.3333333333333333,
             "#9c179e"
            ],
            [
             0.4444444444444444,
             "#bd3786"
            ],
            [
             0.5555555555555556,
             "#d8576b"
            ],
            [
             0.6666666666666666,
             "#ed7953"
            ],
            [
             0.7777777777777778,
             "#fb9f3a"
            ],
            [
             0.8888888888888888,
             "#fdca26"
            ],
            [
             1,
             "#f0f921"
            ]
           ],
           "sequentialminus": [
            [
             0,
             "#0d0887"
            ],
            [
             0.1111111111111111,
             "#46039f"
            ],
            [
             0.2222222222222222,
             "#7201a8"
            ],
            [
             0.3333333333333333,
             "#9c179e"
            ],
            [
             0.4444444444444444,
             "#bd3786"
            ],
            [
             0.5555555555555556,
             "#d8576b"
            ],
            [
             0.6666666666666666,
             "#ed7953"
            ],
            [
             0.7777777777777778,
             "#fb9f3a"
            ],
            [
             0.8888888888888888,
             "#fdca26"
            ],
            [
             1,
             "#f0f921"
            ]
           ]
          },
          "colorway": [
           "#636efa",
           "#EF553B",
           "#00cc96",
           "#ab63fa",
           "#FFA15A",
           "#19d3f3",
           "#FF6692",
           "#B6E880",
           "#FF97FF",
           "#FECB52"
          ],
          "font": {
           "color": "#2a3f5f"
          },
          "geo": {
           "bgcolor": "white",
           "lakecolor": "white",
           "landcolor": "#E5ECF6",
           "showlakes": true,
           "showland": true,
           "subunitcolor": "white"
          },
          "hoverlabel": {
           "align": "left"
          },
          "hovermode": "closest",
          "mapbox": {
           "style": "light"
          },
          "paper_bgcolor": "white",
          "plot_bgcolor": "#E5ECF6",
          "polar": {
           "angularaxis": {
            "gridcolor": "white",
            "linecolor": "white",
            "ticks": ""
           },
           "bgcolor": "#E5ECF6",
           "radialaxis": {
            "gridcolor": "white",
            "linecolor": "white",
            "ticks": ""
           }
          },
          "scene": {
           "xaxis": {
            "backgroundcolor": "#E5ECF6",
            "gridcolor": "white",
            "gridwidth": 2,
            "linecolor": "white",
            "showbackground": true,
            "ticks": "",
            "zerolinecolor": "white"
           },
           "yaxis": {
            "backgroundcolor": "#E5ECF6",
            "gridcolor": "white",
            "gridwidth": 2,
            "linecolor": "white",
            "showbackground": true,
            "ticks": "",
            "zerolinecolor": "white"
           },
           "zaxis": {
            "backgroundcolor": "#E5ECF6",
            "gridcolor": "white",
            "gridwidth": 2,
            "linecolor": "white",
            "showbackground": true,
            "ticks": "",
            "zerolinecolor": "white"
           }
          },
          "shapedefaults": {
           "line": {
            "color": "#2a3f5f"
           }
          },
          "ternary": {
           "aaxis": {
            "gridcolor": "white",
            "linecolor": "white",
            "ticks": ""
           },
           "baxis": {
            "gridcolor": "white",
            "linecolor": "white",
            "ticks": ""
           },
           "bgcolor": "#E5ECF6",
           "caxis": {
            "gridcolor": "white",
            "linecolor": "white",
            "ticks": ""
           }
          },
          "title": {
           "x": 0.05
          },
          "xaxis": {
           "automargin": true,
           "gridcolor": "white",
           "linecolor": "white",
           "ticks": "",
           "title": {
            "standoff": 15
           },
           "zerolinecolor": "white",
           "zerolinewidth": 2
          },
          "yaxis": {
           "automargin": true,
           "gridcolor": "white",
           "linecolor": "white",
           "ticks": "",
           "title": {
            "standoff": 15
           },
           "zerolinecolor": "white",
           "zerolinewidth": 2
          }
         }
        },
        "title": {
         "text": "Average age of MPs by party"
        },
        "xaxis": {
         "anchor": "y",
         "categoryarray": [
          "Mniejszość Niemiecka",
          "Koalicja Obywatelska",
          "Prawo i Sprawiedliwość",
          "Polskie Stronnictwo Ludowe",
          "Sojusz Lewicy Demokratycznej",
          "Konfederacja Wolność i Niepodległość"
         ],
         "categoryorder": "array",
         "domain": [
          0,
          1
         ],
         "title": {
          "text": "Party"
         }
        },
        "yaxis": {
         "anchor": "x",
         "domain": [
          0,
          1
         ],
         "title": {
          "text": "Age"
         }
        }
       }
      }
     },
     "metadata": {},
     "output_type": "display_data"
    }
   ],
   "source": [
    "# add 'age' column\n",
    "import datetime\n",
    "current_year = datetime.datetime.now().year\n",
    "mps['age'] = current_year - mps['birth_date'].str.split('-').str[0].astype(int)\n",
    "mps['age']\n",
    "\n",
    "# average age of MPs\n",
    "avg_age = mps['age'].mean()\n",
    "avg_age\n",
    "\n",
    "# average age of MPs by party\n",
    "avg_age = mps['age'].groupby(mps['party_list']).mean()\n",
    "avg_age\n",
    "\n",
    "# sort by age\n",
    "avg_age = avg_age.sort_values(ascending=False)\n",
    "\n",
    "# graph\n",
    "fig = px.bar(avg_age, x=avg_age.index, y=avg_age.values, color=avg_age.index)\n",
    "# graph avg_high\n",
    "# add title\n",
    "fig.update_layout(title_text='Average age of MPs by party')\n",
    "# y_axis_label = Percentage\n",
    "fig.update_yaxes(title_text='Age')\n",
    "# x axis label = Party\n",
    "fig.update_xaxes(title_text='Party')\n",
    "# hige legend\n",
    "fig.update_traces(showlegend=False)\n",
    "# change tooltip\n",
    "fig.update_traces(hovertemplate='Party: %{x}<br>Age: %{y:.2f}')\n",
    "# hide name of the trace\n",
    "fig.update_traces(name='')\n",
    "\n",
    "# show values above bars\n",
    "fig.update_traces(texttemplate='%{y:.2f}', textposition='outside')\n",
    "fig.show()\n",
    "\n",
    "# size = 1200x800\n",
    "fig.update_layout(width=1200, height=600)\n",
    "# save to png\n",
    "fig.write_image('data/avg_age.png')"
   ]
  },
  {
   "cell_type": "code",
   "execution_count": 12,
   "metadata": {},
   "outputs": [
    {
     "data": {
      "application/vnd.plotly.v1+json": {
       "config": {
        "plotlyServerURL": "https://plot.ly"
       },
       "data": [
        {
         "alignmentgroup": "True",
         "hovertemplate": "index=%{x}<br>y=%{y}<extra></extra>",
         "legendgroup": "parlamentarzysta",
         "marker": {
          "color": "#636efa",
          "pattern": {
           "shape": ""
          }
         },
         "name": "parlamentarzysta",
         "offsetgroup": "parlamentarzysta",
         "orientation": "v",
         "showlegend": true,
         "textposition": "auto",
         "type": "bar",
         "x": [
          "parlamentarzysta"
         ],
         "xaxis": "x",
         "y": [
          81
         ],
         "yaxis": "y"
        },
        {
         "alignmentgroup": "True",
         "hovertemplate": "index=%{x}<br>y=%{y}<extra></extra>",
         "legendgroup": "ekonomista",
         "marker": {
          "color": "#EF553B",
          "pattern": {
           "shape": ""
          }
         },
         "name": "ekonomista",
         "offsetgroup": "ekonomista",
         "orientation": "v",
         "showlegend": true,
         "textposition": "auto",
         "type": "bar",
         "x": [
          "ekonomista"
         ],
         "xaxis": "x",
         "y": [
          35
         ],
         "yaxis": "y"
        },
        {
         "alignmentgroup": "True",
         "hovertemplate": "index=%{x}<br>y=%{y}<extra></extra>",
         "legendgroup": "prawnik",
         "marker": {
          "color": "#00cc96",
          "pattern": {
           "shape": ""
          }
         },
         "name": "prawnik",
         "offsetgroup": "prawnik",
         "orientation": "v",
         "showlegend": true,
         "textposition": "auto",
         "type": "bar",
         "x": [
          "prawnik"
         ],
         "xaxis": "x",
         "y": [
          32
         ],
         "yaxis": "y"
        },
        {
         "alignmentgroup": "True",
         "hovertemplate": "index=%{x}<br>y=%{y}<extra></extra>",
         "legendgroup": "politolog",
         "marker": {
          "color": "#ab63fa",
          "pattern": {
           "shape": ""
          }
         },
         "name": "politolog",
         "offsetgroup": "politolog",
         "orientation": "v",
         "showlegend": true,
         "textposition": "auto",
         "type": "bar",
         "x": [
          "politolog"
         ],
         "xaxis": "x",
         "y": [
          27
         ],
         "yaxis": "y"
        },
        {
         "alignmentgroup": "True",
         "hovertemplate": "index=%{x}<br>y=%{y}<extra></extra>",
         "legendgroup": "nauczyciel akademicki",
         "marker": {
          "color": "#FFA15A",
          "pattern": {
           "shape": ""
          }
         },
         "name": "nauczyciel akademicki",
         "offsetgroup": "nauczyciel akademicki",
         "orientation": "v",
         "showlegend": true,
         "textposition": "auto",
         "type": "bar",
         "x": [
          "nauczyciel akademicki"
         ],
         "xaxis": "x",
         "y": [
          17
         ],
         "yaxis": "y"
        },
        {
         "alignmentgroup": "True",
         "hovertemplate": "index=%{x}<br>y=%{y}<extra></extra>",
         "legendgroup": "przedsiębiorca",
         "marker": {
          "color": "#19d3f3",
          "pattern": {
           "shape": ""
          }
         },
         "name": "przedsiębiorca",
         "offsetgroup": "przedsiębiorca",
         "orientation": "v",
         "showlegend": true,
         "textposition": "auto",
         "type": "bar",
         "x": [
          "przedsiębiorca"
         ],
         "xaxis": "x",
         "y": [
          15
         ],
         "yaxis": "y"
        },
        {
         "alignmentgroup": "True",
         "hovertemplate": "index=%{x}<br>y=%{y}<extra></extra>",
         "legendgroup": "historyk",
         "marker": {
          "color": "#FF6692",
          "pattern": {
           "shape": ""
          }
         },
         "name": "historyk",
         "offsetgroup": "historyk",
         "orientation": "v",
         "showlegend": true,
         "textposition": "auto",
         "type": "bar",
         "x": [
          "historyk"
         ],
         "xaxis": "x",
         "y": [
          14
         ],
         "yaxis": "y"
        },
        {
         "alignmentgroup": "True",
         "hovertemplate": "index=%{x}<br>y=%{y}<extra></extra>",
         "legendgroup": "adwokat",
         "marker": {
          "color": "#B6E880",
          "pattern": {
           "shape": ""
          }
         },
         "name": "adwokat",
         "offsetgroup": "adwokat",
         "orientation": "v",
         "showlegend": true,
         "textposition": "auto",
         "type": "bar",
         "x": [
          "adwokat"
         ],
         "xaxis": "x",
         "y": [
          10
         ],
         "yaxis": "y"
        },
        {
         "alignmentgroup": "True",
         "hovertemplate": "index=%{x}<br>y=%{y}<extra></extra>",
         "legendgroup": "nauczyciel",
         "marker": {
          "color": "#FF97FF",
          "pattern": {
           "shape": ""
          }
         },
         "name": "nauczyciel",
         "offsetgroup": "nauczyciel",
         "orientation": "v",
         "showlegend": true,
         "textposition": "auto",
         "type": "bar",
         "x": [
          "nauczyciel"
         ],
         "xaxis": "x",
         "y": [
          10
         ],
         "yaxis": "y"
        },
        {
         "alignmentgroup": "True",
         "hovertemplate": "index=%{x}<br>y=%{y}<extra></extra>",
         "legendgroup": "pedagog",
         "marker": {
          "color": "#FECB52",
          "pattern": {
           "shape": ""
          }
         },
         "name": "pedagog",
         "offsetgroup": "pedagog",
         "orientation": "v",
         "showlegend": true,
         "textposition": "auto",
         "type": "bar",
         "x": [
          "pedagog"
         ],
         "xaxis": "x",
         "y": [
          9
         ],
         "yaxis": "y"
        },
        {
         "alignmentgroup": "True",
         "hovertemplate": "index=%{x}<br>y=%{y}<extra></extra>",
         "legendgroup": "radca prawny",
         "marker": {
          "color": "#636efa",
          "pattern": {
           "shape": ""
          }
         },
         "name": "radca prawny",
         "offsetgroup": "radca prawny",
         "orientation": "v",
         "showlegend": true,
         "textposition": "auto",
         "type": "bar",
         "x": [
          "radca prawny"
         ],
         "xaxis": "x",
         "y": [
          8
         ],
         "yaxis": "y"
        },
        {
         "alignmentgroup": "True",
         "hovertemplate": "index=%{x}<br>y=%{y}<extra></extra>",
         "legendgroup": "dziennikarz",
         "marker": {
          "color": "#EF553B",
          "pattern": {
           "shape": ""
          }
         },
         "name": "dziennikarz",
         "offsetgroup": "dziennikarz",
         "orientation": "v",
         "showlegend": true,
         "textposition": "auto",
         "type": "bar",
         "x": [
          "dziennikarz"
         ],
         "xaxis": "x",
         "y": [
          7
         ],
         "yaxis": "y"
        },
        {
         "alignmentgroup": "True",
         "hovertemplate": "index=%{x}<br>y=%{y}<extra></extra>",
         "legendgroup": "lekarz medycyny",
         "marker": {
          "color": "#00cc96",
          "pattern": {
           "shape": ""
          }
         },
         "name": "lekarz medycyny",
         "offsetgroup": "lekarz medycyny",
         "orientation": "v",
         "showlegend": true,
         "textposition": "auto",
         "type": "bar",
         "x": [
          "lekarz medycyny"
         ],
         "xaxis": "x",
         "y": [
          7
         ],
         "yaxis": "y"
        },
        {
         "alignmentgroup": "True",
         "hovertemplate": "index=%{x}<br>y=%{y}<extra></extra>",
         "legendgroup": "przedstawiciel władzy samorządowej",
         "marker": {
          "color": "#ab63fa",
          "pattern": {
           "shape": ""
          }
         },
         "name": "przedstawiciel władzy samorządowej",
         "offsetgroup": "przedstawiciel władzy samorządowej",
         "orientation": "v",
         "showlegend": true,
         "textposition": "auto",
         "type": "bar",
         "x": [
          "przedstawiciel władzy samorządowej"
         ],
         "xaxis": "x",
         "y": [
          7
         ],
         "yaxis": "y"
        },
        {
         "alignmentgroup": "True",
         "hovertemplate": "index=%{x}<br>y=%{y}<extra></extra>",
         "legendgroup": "poseł",
         "marker": {
          "color": "#FFA15A",
          "pattern": {
           "shape": ""
          }
         },
         "name": "poseł",
         "offsetgroup": "poseł",
         "orientation": "v",
         "showlegend": true,
         "textposition": "auto",
         "type": "bar",
         "x": [
          "poseł"
         ],
         "xaxis": "x",
         "y": [
          6
         ],
         "yaxis": "y"
        },
        {
         "alignmentgroup": "True",
         "hovertemplate": "index=%{x}<br>y=%{y}<extra></extra>",
         "legendgroup": "socjolog",
         "marker": {
          "color": "#19d3f3",
          "pattern": {
           "shape": ""
          }
         },
         "name": "socjolog",
         "offsetgroup": "socjolog",
         "orientation": "v",
         "showlegend": true,
         "textposition": "auto",
         "type": "bar",
         "x": [
          "socjolog"
         ],
         "xaxis": "x",
         "y": [
          6
         ],
         "yaxis": "y"
        },
        {
         "alignmentgroup": "True",
         "hovertemplate": "index=%{x}<br>y=%{y}<extra></extra>",
         "legendgroup": "rolnik",
         "marker": {
          "color": "#FF6692",
          "pattern": {
           "shape": ""
          }
         },
         "name": "rolnik",
         "offsetgroup": "rolnik",
         "orientation": "v",
         "showlegend": true,
         "textposition": "auto",
         "type": "bar",
         "x": [
          "rolnik"
         ],
         "xaxis": "x",
         "y": [
          6
         ],
         "yaxis": "y"
        },
        {
         "alignmentgroup": "True",
         "hovertemplate": "index=%{x}<br>y=%{y}<extra></extra>",
         "legendgroup": "poseł na Sejm RP",
         "marker": {
          "color": "#B6E880",
          "pattern": {
           "shape": ""
          }
         },
         "name": "poseł na Sejm RP",
         "offsetgroup": "poseł na Sejm RP",
         "orientation": "v",
         "showlegend": true,
         "textposition": "auto",
         "type": "bar",
         "x": [
          "poseł na Sejm RP"
         ],
         "xaxis": "x",
         "y": [
          5
         ],
         "yaxis": "y"
        },
        {
         "alignmentgroup": "True",
         "hovertemplate": "index=%{x}<br>y=%{y}<extra></extra>",
         "legendgroup": "polityk",
         "marker": {
          "color": "#FF97FF",
          "pattern": {
           "shape": ""
          }
         },
         "name": "polityk",
         "offsetgroup": "polityk",
         "orientation": "v",
         "showlegend": true,
         "textposition": "auto",
         "type": "bar",
         "x": [
          "polityk"
         ],
         "xaxis": "x",
         "y": [
          4
         ],
         "yaxis": "y"
        },
        {
         "alignmentgroup": "True",
         "hovertemplate": "index=%{x}<br>y=%{y}<extra></extra>",
         "legendgroup": "ekonomistka",
         "marker": {
          "color": "#FECB52",
          "pattern": {
           "shape": ""
          }
         },
         "name": "ekonomistka",
         "offsetgroup": "ekonomistka",
         "orientation": "v",
         "showlegend": true,
         "textposition": "auto",
         "type": "bar",
         "x": [
          "ekonomistka"
         ],
         "xaxis": "x",
         "y": [
          4
         ],
         "yaxis": "y"
        },
        {
         "alignmentgroup": "True",
         "hovertemplate": "index=%{x}<br>y=%{y}<extra></extra>",
         "legendgroup": "inżynier mechanik",
         "marker": {
          "color": "#636efa",
          "pattern": {
           "shape": ""
          }
         },
         "name": "inżynier mechanik",
         "offsetgroup": "inżynier mechanik",
         "orientation": "v",
         "showlegend": true,
         "textposition": "auto",
         "type": "bar",
         "x": [
          "inżynier mechanik"
         ],
         "xaxis": "x",
         "y": [
          4
         ],
         "yaxis": "y"
        },
        {
         "alignmentgroup": "True",
         "hovertemplate": "index=%{x}<br>y=%{y}<extra></extra>",
         "legendgroup": "wyższy urzędnik państwowy",
         "marker": {
          "color": "#EF553B",
          "pattern": {
           "shape": ""
          }
         },
         "name": "wyższy urzędnik państwowy",
         "offsetgroup": "wyższy urzędnik państwowy",
         "orientation": "v",
         "showlegend": true,
         "textposition": "auto",
         "type": "bar",
         "x": [
          "wyższy urzędnik państwowy"
         ],
         "xaxis": "x",
         "y": [
          4
         ],
         "yaxis": "y"
        },
        {
         "alignmentgroup": "True",
         "hovertemplate": "index=%{x}<br>y=%{y}<extra></extra>",
         "legendgroup": "menadżer",
         "marker": {
          "color": "#00cc96",
          "pattern": {
           "shape": ""
          }
         },
         "name": "menadżer",
         "offsetgroup": "menadżer",
         "orientation": "v",
         "showlegend": true,
         "textposition": "auto",
         "type": "bar",
         "x": [
          "menadżer"
         ],
         "xaxis": "x",
         "y": [
          3
         ],
         "yaxis": "y"
        },
        {
         "alignmentgroup": "True",
         "hovertemplate": "index=%{x}<br>y=%{y}<extra></extra>",
         "legendgroup": "urzędnik państwowy",
         "marker": {
          "color": "#ab63fa",
          "pattern": {
           "shape": ""
          }
         },
         "name": "urzędnik państwowy",
         "offsetgroup": "urzędnik państwowy",
         "orientation": "v",
         "showlegend": true,
         "textposition": "auto",
         "type": "bar",
         "x": [
          "urzędnik państwowy"
         ],
         "xaxis": "x",
         "y": [
          3
         ],
         "yaxis": "y"
        },
        {
         "alignmentgroup": "True",
         "hovertemplate": "index=%{x}<br>y=%{y}<extra></extra>",
         "legendgroup": "programista",
         "marker": {
          "color": "#FFA15A",
          "pattern": {
           "shape": ""
          }
         },
         "name": "programista",
         "offsetgroup": "programista",
         "orientation": "v",
         "showlegend": true,
         "textposition": "auto",
         "type": "bar",
         "x": [
          "programista"
         ],
         "xaxis": "x",
         "y": [
          2
         ],
         "yaxis": "y"
        },
        {
         "alignmentgroup": "True",
         "hovertemplate": "index=%{x}<br>y=%{y}<extra></extra>",
         "legendgroup": "przedsiębiorca prywatny",
         "marker": {
          "color": "#19d3f3",
          "pattern": {
           "shape": ""
          }
         },
         "name": "przedsiębiorca prywatny",
         "offsetgroup": "przedsiębiorca prywatny",
         "orientation": "v",
         "showlegend": true,
         "textposition": "auto",
         "type": "bar",
         "x": [
          "przedsiębiorca prywatny"
         ],
         "xaxis": "x",
         "y": [
          2
         ],
         "yaxis": "y"
        },
        {
         "alignmentgroup": "True",
         "hovertemplate": "index=%{x}<br>y=%{y}<extra></extra>",
         "legendgroup": "nauczyciel historii",
         "marker": {
          "color": "#FF6692",
          "pattern": {
           "shape": ""
          }
         },
         "name": "nauczyciel historii",
         "offsetgroup": "nauczyciel historii",
         "orientation": "v",
         "showlegend": true,
         "textposition": "auto",
         "type": "bar",
         "x": [
          "nauczyciel historii"
         ],
         "xaxis": "x",
         "y": [
          2
         ],
         "yaxis": "y"
        },
        {
         "alignmentgroup": "True",
         "hovertemplate": "index=%{x}<br>y=%{y}<extra></extra>",
         "legendgroup": "menedżer",
         "marker": {
          "color": "#B6E880",
          "pattern": {
           "shape": ""
          }
         },
         "name": "menedżer",
         "offsetgroup": "menedżer",
         "orientation": "v",
         "showlegend": true,
         "textposition": "auto",
         "type": "bar",
         "x": [
          "menedżer"
         ],
         "xaxis": "x",
         "y": [
          2
         ],
         "yaxis": "y"
        },
        {
         "alignmentgroup": "True",
         "hovertemplate": "index=%{x}<br>y=%{y}<extra></extra>",
         "legendgroup": "inżynier rolnictwa",
         "marker": {
          "color": "#FF97FF",
          "pattern": {
           "shape": ""
          }
         },
         "name": "inżynier rolnictwa",
         "offsetgroup": "inżynier rolnictwa",
         "orientation": "v",
         "showlegend": true,
         "textposition": "auto",
         "type": "bar",
         "x": [
          "inżynier rolnictwa"
         ],
         "xaxis": "x",
         "y": [
          2
         ],
         "yaxis": "y"
        },
        {
         "alignmentgroup": "True",
         "hovertemplate": "index=%{x}<br>y=%{y}<extra></extra>",
         "legendgroup": "pracownik samorządowy",
         "marker": {
          "color": "#FECB52",
          "pattern": {
           "shape": ""
          }
         },
         "name": "pracownik samorządowy",
         "offsetgroup": "pracownik samorządowy",
         "orientation": "v",
         "showlegend": true,
         "textposition": "auto",
         "type": "bar",
         "x": [
          "pracownik samorządowy"
         ],
         "xaxis": "x",
         "y": [
          2
         ],
         "yaxis": "y"
        },
        {
         "alignmentgroup": "True",
         "hovertemplate": "index=%{x}<br>y=%{y}<extra></extra>",
         "legendgroup": "lekarz",
         "marker": {
          "color": "#636efa",
          "pattern": {
           "shape": ""
          }
         },
         "name": "lekarz",
         "offsetgroup": "lekarz",
         "orientation": "v",
         "showlegend": true,
         "textposition": "auto",
         "type": "bar",
         "x": [
          "lekarz"
         ],
         "xaxis": "x",
         "y": [
          2
         ],
         "yaxis": "y"
        },
        {
         "alignmentgroup": "True",
         "hovertemplate": "index=%{x}<br>y=%{y}<extra></extra>",
         "legendgroup": "poseł na sejm RP",
         "marker": {
          "color": "#EF553B",
          "pattern": {
           "shape": ""
          }
         },
         "name": "poseł na sejm RP",
         "offsetgroup": "poseł na sejm RP",
         "orientation": "v",
         "showlegend": true,
         "textposition": "auto",
         "type": "bar",
         "x": [
          "poseł na sejm RP"
         ],
         "xaxis": "x",
         "y": [
          2
         ],
         "yaxis": "y"
        },
        {
         "alignmentgroup": "True",
         "hovertemplate": "index=%{x}<br>y=%{y}<extra></extra>",
         "legendgroup": "lekarz weterynarii",
         "marker": {
          "color": "#00cc96",
          "pattern": {
           "shape": ""
          }
         },
         "name": "lekarz weterynarii",
         "offsetgroup": "lekarz weterynarii",
         "orientation": "v",
         "showlegend": true,
         "textposition": "auto",
         "type": "bar",
         "x": [
          "lekarz weterynarii"
         ],
         "xaxis": "x",
         "y": [
          2
         ],
         "yaxis": "y"
        },
        {
         "alignmentgroup": "True",
         "hovertemplate": "index=%{x}<br>y=%{y}<extra></extra>",
         "legendgroup": "leśnik",
         "marker": {
          "color": "#ab63fa",
          "pattern": {
           "shape": ""
          }
         },
         "name": "leśnik",
         "offsetgroup": "leśnik",
         "orientation": "v",
         "showlegend": true,
         "textposition": "auto",
         "type": "bar",
         "x": [
          "leśnik"
         ],
         "xaxis": "x",
         "y": [
          2
         ],
         "yaxis": "y"
        },
        {
         "alignmentgroup": "True",
         "hovertemplate": "index=%{x}<br>y=%{y}<extra></extra>",
         "legendgroup": "administratywista",
         "marker": {
          "color": "#FFA15A",
          "pattern": {
           "shape": ""
          }
         },
         "name": "administratywista",
         "offsetgroup": "administratywista",
         "orientation": "v",
         "showlegend": true,
         "textposition": "auto",
         "type": "bar",
         "x": [
          "administratywista"
         ],
         "xaxis": "x",
         "y": [
          2
         ],
         "yaxis": "y"
        },
        {
         "alignmentgroup": "True",
         "hovertemplate": "index=%{x}<br>y=%{y}<extra></extra>",
         "legendgroup": "notariusz",
         "marker": {
          "color": "#19d3f3",
          "pattern": {
           "shape": ""
          }
         },
         "name": "notariusz",
         "offsetgroup": "notariusz",
         "orientation": "v",
         "showlegend": true,
         "textposition": "auto",
         "type": "bar",
         "x": [
          "notariusz"
         ],
         "xaxis": "x",
         "y": [
          2
         ],
         "yaxis": "y"
        },
        {
         "alignmentgroup": "True",
         "hovertemplate": "index=%{x}<br>y=%{y}<extra></extra>",
         "legendgroup": "publicysta",
         "marker": {
          "color": "#FF6692",
          "pattern": {
           "shape": ""
          }
         },
         "name": "publicysta",
         "offsetgroup": "publicysta",
         "orientation": "v",
         "showlegend": true,
         "textposition": "auto",
         "type": "bar",
         "x": [
          "publicysta"
         ],
         "xaxis": "x",
         "y": [
          2
         ],
         "yaxis": "y"
        },
        {
         "alignmentgroup": "True",
         "hovertemplate": "index=%{x}<br>y=%{y}<extra></extra>",
         "legendgroup": "przedstawiciel władzy samorządowej - radny",
         "marker": {
          "color": "#B6E880",
          "pattern": {
           "shape": ""
          }
         },
         "name": "przedstawiciel władzy samorządowej - radny",
         "offsetgroup": "przedstawiciel władzy samorządowej - radny",
         "orientation": "v",
         "showlegend": true,
         "textposition": "auto",
         "type": "bar",
         "x": [
          "przedstawiciel władzy samorządowej - radny"
         ],
         "xaxis": "x",
         "y": [
          2
         ],
         "yaxis": "y"
        },
        {
         "alignmentgroup": "True",
         "hovertemplate": "index=%{x}<br>y=%{y}<extra></extra>",
         "legendgroup": "samorządowiec",
         "marker": {
          "color": "#FF97FF",
          "pattern": {
           "shape": ""
          }
         },
         "name": "samorządowiec",
         "offsetgroup": "samorządowiec",
         "orientation": "v",
         "showlegend": true,
         "textposition": "auto",
         "type": "bar",
         "x": [
          "samorządowiec"
         ],
         "xaxis": "x",
         "y": [
          2
         ],
         "yaxis": "y"
        },
        {
         "alignmentgroup": "True",
         "hovertemplate": "index=%{x}<br>y=%{y}<extra></extra>",
         "legendgroup": "wyższy urzędnik samorządowy",
         "marker": {
          "color": "#FECB52",
          "pattern": {
           "shape": ""
          }
         },
         "name": "wyższy urzędnik samorządowy",
         "offsetgroup": "wyższy urzędnik samorządowy",
         "orientation": "v",
         "showlegend": true,
         "textposition": "auto",
         "type": "bar",
         "x": [
          "wyższy urzędnik samorządowy"
         ],
         "xaxis": "x",
         "y": [
          2
         ],
         "yaxis": "y"
        },
        {
         "alignmentgroup": "True",
         "hovertemplate": "index=%{x}<br>y=%{y}<extra></extra>",
         "legendgroup": "dziennikarka",
         "marker": {
          "color": "#636efa",
          "pattern": {
           "shape": ""
          }
         },
         "name": "dziennikarka",
         "offsetgroup": "dziennikarka",
         "orientation": "v",
         "showlegend": true,
         "textposition": "auto",
         "type": "bar",
         "x": [
          "dziennikarka"
         ],
         "xaxis": "x",
         "y": [
          2
         ],
         "yaxis": "y"
        },
        {
         "alignmentgroup": "True",
         "hovertemplate": "index=%{x}<br>y=%{y}<extra></extra>",
         "legendgroup": "wykładowca akademicki",
         "marker": {
          "color": "#EF553B",
          "pattern": {
           "shape": ""
          }
         },
         "name": "wykładowca akademicki",
         "offsetgroup": "wykładowca akademicki",
         "orientation": "v",
         "showlegend": true,
         "textposition": "auto",
         "type": "bar",
         "x": [
          "wykładowca akademicki"
         ],
         "xaxis": "x",
         "y": [
          2
         ],
         "yaxis": "y"
        },
        {
         "alignmentgroup": "True",
         "hovertemplate": "index=%{x}<br>y=%{y}<extra></extra>",
         "legendgroup": "urzędnik samorządowy",
         "marker": {
          "color": "#00cc96",
          "pattern": {
           "shape": ""
          }
         },
         "name": "urzędnik samorządowy",
         "offsetgroup": "urzędnik samorządowy",
         "orientation": "v",
         "showlegend": true,
         "textposition": "auto",
         "type": "bar",
         "x": [
          "urzędnik samorządowy"
         ],
         "xaxis": "x",
         "y": [
          2
         ],
         "yaxis": "y"
        },
        {
         "alignmentgroup": "True",
         "hovertemplate": "index=%{x}<br>y=%{y}<extra></extra>",
         "legendgroup": "urzędnik",
         "marker": {
          "color": "#ab63fa",
          "pattern": {
           "shape": ""
          }
         },
         "name": "urzędnik",
         "offsetgroup": "urzędnik",
         "orientation": "v",
         "showlegend": true,
         "textposition": "auto",
         "type": "bar",
         "x": [
          "urzędnik"
         ],
         "xaxis": "x",
         "y": [
          2
         ],
         "yaxis": "y"
        }
       ],
       "layout": {
        "barmode": "relative",
        "legend": {
         "title": {
          "text": "index"
         },
         "tracegroupgap": 0
        },
        "margin": {
         "t": 60
        },
        "template": {
         "data": {
          "bar": [
           {
            "error_x": {
             "color": "#2a3f5f"
            },
            "error_y": {
             "color": "#2a3f5f"
            },
            "marker": {
             "line": {
              "color": "#E5ECF6",
              "width": 0.5
             },
             "pattern": {
              "fillmode": "overlay",
              "size": 10,
              "solidity": 0.2
             }
            },
            "type": "bar"
           }
          ],
          "barpolar": [
           {
            "marker": {
             "line": {
              "color": "#E5ECF6",
              "width": 0.5
             },
             "pattern": {
              "fillmode": "overlay",
              "size": 10,
              "solidity": 0.2
             }
            },
            "type": "barpolar"
           }
          ],
          "carpet": [
           {
            "aaxis": {
             "endlinecolor": "#2a3f5f",
             "gridcolor": "white",
             "linecolor": "white",
             "minorgridcolor": "white",
             "startlinecolor": "#2a3f5f"
            },
            "baxis": {
             "endlinecolor": "#2a3f5f",
             "gridcolor": "white",
             "linecolor": "white",
             "minorgridcolor": "white",
             "startlinecolor": "#2a3f5f"
            },
            "type": "carpet"
           }
          ],
          "choropleth": [
           {
            "colorbar": {
             "outlinewidth": 0,
             "ticks": ""
            },
            "type": "choropleth"
           }
          ],
          "contour": [
           {
            "colorbar": {
             "outlinewidth": 0,
             "ticks": ""
            },
            "colorscale": [
             [
              0,
              "#0d0887"
             ],
             [
              0.1111111111111111,
              "#46039f"
             ],
             [
              0.2222222222222222,
              "#7201a8"
             ],
             [
              0.3333333333333333,
              "#9c179e"
             ],
             [
              0.4444444444444444,
              "#bd3786"
             ],
             [
              0.5555555555555556,
              "#d8576b"
             ],
             [
              0.6666666666666666,
              "#ed7953"
             ],
             [
              0.7777777777777778,
              "#fb9f3a"
             ],
             [
              0.8888888888888888,
              "#fdca26"
             ],
             [
              1,
              "#f0f921"
             ]
            ],
            "type": "contour"
           }
          ],
          "contourcarpet": [
           {
            "colorbar": {
             "outlinewidth": 0,
             "ticks": ""
            },
            "type": "contourcarpet"
           }
          ],
          "heatmap": [
           {
            "colorbar": {
             "outlinewidth": 0,
             "ticks": ""
            },
            "colorscale": [
             [
              0,
              "#0d0887"
             ],
             [
              0.1111111111111111,
              "#46039f"
             ],
             [
              0.2222222222222222,
              "#7201a8"
             ],
             [
              0.3333333333333333,
              "#9c179e"
             ],
             [
              0.4444444444444444,
              "#bd3786"
             ],
             [
              0.5555555555555556,
              "#d8576b"
             ],
             [
              0.6666666666666666,
              "#ed7953"
             ],
             [
              0.7777777777777778,
              "#fb9f3a"
             ],
             [
              0.8888888888888888,
              "#fdca26"
             ],
             [
              1,
              "#f0f921"
             ]
            ],
            "type": "heatmap"
           }
          ],
          "heatmapgl": [
           {
            "colorbar": {
             "outlinewidth": 0,
             "ticks": ""
            },
            "colorscale": [
             [
              0,
              "#0d0887"
             ],
             [
              0.1111111111111111,
              "#46039f"
             ],
             [
              0.2222222222222222,
              "#7201a8"
             ],
             [
              0.3333333333333333,
              "#9c179e"
             ],
             [
              0.4444444444444444,
              "#bd3786"
             ],
             [
              0.5555555555555556,
              "#d8576b"
             ],
             [
              0.6666666666666666,
              "#ed7953"
             ],
             [
              0.7777777777777778,
              "#fb9f3a"
             ],
             [
              0.8888888888888888,
              "#fdca26"
             ],
             [
              1,
              "#f0f921"
             ]
            ],
            "type": "heatmapgl"
           }
          ],
          "histogram": [
           {
            "marker": {
             "pattern": {
              "fillmode": "overlay",
              "size": 10,
              "solidity": 0.2
             }
            },
            "type": "histogram"
           }
          ],
          "histogram2d": [
           {
            "colorbar": {
             "outlinewidth": 0,
             "ticks": ""
            },
            "colorscale": [
             [
              0,
              "#0d0887"
             ],
             [
              0.1111111111111111,
              "#46039f"
             ],
             [
              0.2222222222222222,
              "#7201a8"
             ],
             [
              0.3333333333333333,
              "#9c179e"
             ],
             [
              0.4444444444444444,
              "#bd3786"
             ],
             [
              0.5555555555555556,
              "#d8576b"
             ],
             [
              0.6666666666666666,
              "#ed7953"
             ],
             [
              0.7777777777777778,
              "#fb9f3a"
             ],
             [
              0.8888888888888888,
              "#fdca26"
             ],
             [
              1,
              "#f0f921"
             ]
            ],
            "type": "histogram2d"
           }
          ],
          "histogram2dcontour": [
           {
            "colorbar": {
             "outlinewidth": 0,
             "ticks": ""
            },
            "colorscale": [
             [
              0,
              "#0d0887"
             ],
             [
              0.1111111111111111,
              "#46039f"
             ],
             [
              0.2222222222222222,
              "#7201a8"
             ],
             [
              0.3333333333333333,
              "#9c179e"
             ],
             [
              0.4444444444444444,
              "#bd3786"
             ],
             [
              0.5555555555555556,
              "#d8576b"
             ],
             [
              0.6666666666666666,
              "#ed7953"
             ],
             [
              0.7777777777777778,
              "#fb9f3a"
             ],
             [
              0.8888888888888888,
              "#fdca26"
             ],
             [
              1,
              "#f0f921"
             ]
            ],
            "type": "histogram2dcontour"
           }
          ],
          "mesh3d": [
           {
            "colorbar": {
             "outlinewidth": 0,
             "ticks": ""
            },
            "type": "mesh3d"
           }
          ],
          "parcoords": [
           {
            "line": {
             "colorbar": {
              "outlinewidth": 0,
              "ticks": ""
             }
            },
            "type": "parcoords"
           }
          ],
          "pie": [
           {
            "automargin": true,
            "type": "pie"
           }
          ],
          "scatter": [
           {
            "fillpattern": {
             "fillmode": "overlay",
             "size": 10,
             "solidity": 0.2
            },
            "type": "scatter"
           }
          ],
          "scatter3d": [
           {
            "line": {
             "colorbar": {
              "outlinewidth": 0,
              "ticks": ""
             }
            },
            "marker": {
             "colorbar": {
              "outlinewidth": 0,
              "ticks": ""
             }
            },
            "type": "scatter3d"
           }
          ],
          "scattercarpet": [
           {
            "marker": {
             "colorbar": {
              "outlinewidth": 0,
              "ticks": ""
             }
            },
            "type": "scattercarpet"
           }
          ],
          "scattergeo": [
           {
            "marker": {
             "colorbar": {
              "outlinewidth": 0,
              "ticks": ""
             }
            },
            "type": "scattergeo"
           }
          ],
          "scattergl": [
           {
            "marker": {
             "colorbar": {
              "outlinewidth": 0,
              "ticks": ""
             }
            },
            "type": "scattergl"
           }
          ],
          "scattermapbox": [
           {
            "marker": {
             "colorbar": {
              "outlinewidth": 0,
              "ticks": ""
             }
            },
            "type": "scattermapbox"
           }
          ],
          "scatterpolar": [
           {
            "marker": {
             "colorbar": {
              "outlinewidth": 0,
              "ticks": ""
             }
            },
            "type": "scatterpolar"
           }
          ],
          "scatterpolargl": [
           {
            "marker": {
             "colorbar": {
              "outlinewidth": 0,
              "ticks": ""
             }
            },
            "type": "scatterpolargl"
           }
          ],
          "scatterternary": [
           {
            "marker": {
             "colorbar": {
              "outlinewidth": 0,
              "ticks": ""
             }
            },
            "type": "scatterternary"
           }
          ],
          "surface": [
           {
            "colorbar": {
             "outlinewidth": 0,
             "ticks": ""
            },
            "colorscale": [
             [
              0,
              "#0d0887"
             ],
             [
              0.1111111111111111,
              "#46039f"
             ],
             [
              0.2222222222222222,
              "#7201a8"
             ],
             [
              0.3333333333333333,
              "#9c179e"
             ],
             [
              0.4444444444444444,
              "#bd3786"
             ],
             [
              0.5555555555555556,
              "#d8576b"
             ],
             [
              0.6666666666666666,
              "#ed7953"
             ],
             [
              0.7777777777777778,
              "#fb9f3a"
             ],
             [
              0.8888888888888888,
              "#fdca26"
             ],
             [
              1,
              "#f0f921"
             ]
            ],
            "type": "surface"
           }
          ],
          "table": [
           {
            "cells": {
             "fill": {
              "color": "#EBF0F8"
             },
             "line": {
              "color": "white"
             }
            },
            "header": {
             "fill": {
              "color": "#C8D4E3"
             },
             "line": {
              "color": "white"
             }
            },
            "type": "table"
           }
          ]
         },
         "layout": {
          "annotationdefaults": {
           "arrowcolor": "#2a3f5f",
           "arrowhead": 0,
           "arrowwidth": 1
          },
          "autotypenumbers": "strict",
          "coloraxis": {
           "colorbar": {
            "outlinewidth": 0,
            "ticks": ""
           }
          },
          "colorscale": {
           "diverging": [
            [
             0,
             "#8e0152"
            ],
            [
             0.1,
             "#c51b7d"
            ],
            [
             0.2,
             "#de77ae"
            ],
            [
             0.3,
             "#f1b6da"
            ],
            [
             0.4,
             "#fde0ef"
            ],
            [
             0.5,
             "#f7f7f7"
            ],
            [
             0.6,
             "#e6f5d0"
            ],
            [
             0.7,
             "#b8e186"
            ],
            [
             0.8,
             "#7fbc41"
            ],
            [
             0.9,
             "#4d9221"
            ],
            [
             1,
             "#276419"
            ]
           ],
           "sequential": [
            [
             0,
             "#0d0887"
            ],
            [
             0.1111111111111111,
             "#46039f"
            ],
            [
             0.2222222222222222,
             "#7201a8"
            ],
            [
             0.3333333333333333,
             "#9c179e"
            ],
            [
             0.4444444444444444,
             "#bd3786"
            ],
            [
             0.5555555555555556,
             "#d8576b"
            ],
            [
             0.6666666666666666,
             "#ed7953"
            ],
            [
             0.7777777777777778,
             "#fb9f3a"
            ],
            [
             0.8888888888888888,
             "#fdca26"
            ],
            [
             1,
             "#f0f921"
            ]
           ],
           "sequentialminus": [
            [
             0,
             "#0d0887"
            ],
            [
             0.1111111111111111,
             "#46039f"
            ],
            [
             0.2222222222222222,
             "#7201a8"
            ],
            [
             0.3333333333333333,
             "#9c179e"
            ],
            [
             0.4444444444444444,
             "#bd3786"
            ],
            [
             0.5555555555555556,
             "#d8576b"
            ],
            [
             0.6666666666666666,
             "#ed7953"
            ],
            [
             0.7777777777777778,
             "#fb9f3a"
            ],
            [
             0.8888888888888888,
             "#fdca26"
            ],
            [
             1,
             "#f0f921"
            ]
           ]
          },
          "colorway": [
           "#636efa",
           "#EF553B",
           "#00cc96",
           "#ab63fa",
           "#FFA15A",
           "#19d3f3",
           "#FF6692",
           "#B6E880",
           "#FF97FF",
           "#FECB52"
          ],
          "font": {
           "color": "#2a3f5f"
          },
          "geo": {
           "bgcolor": "white",
           "lakecolor": "white",
           "landcolor": "#E5ECF6",
           "showlakes": true,
           "showland": true,
           "subunitcolor": "white"
          },
          "hoverlabel": {
           "align": "left"
          },
          "hovermode": "closest",
          "mapbox": {
           "style": "light"
          },
          "paper_bgcolor": "white",
          "plot_bgcolor": "#E5ECF6",
          "polar": {
           "angularaxis": {
            "gridcolor": "white",
            "linecolor": "white",
            "ticks": ""
           },
           "bgcolor": "#E5ECF6",
           "radialaxis": {
            "gridcolor": "white",
            "linecolor": "white",
            "ticks": ""
           }
          },
          "scene": {
           "xaxis": {
            "backgroundcolor": "#E5ECF6",
            "gridcolor": "white",
            "gridwidth": 2,
            "linecolor": "white",
            "showbackground": true,
            "ticks": "",
            "zerolinecolor": "white"
           },
           "yaxis": {
            "backgroundcolor": "#E5ECF6",
            "gridcolor": "white",
            "gridwidth": 2,
            "linecolor": "white",
            "showbackground": true,
            "ticks": "",
            "zerolinecolor": "white"
           },
           "zaxis": {
            "backgroundcolor": "#E5ECF6",
            "gridcolor": "white",
            "gridwidth": 2,
            "linecolor": "white",
            "showbackground": true,
            "ticks": "",
            "zerolinecolor": "white"
           }
          },
          "shapedefaults": {
           "line": {
            "color": "#2a3f5f"
           }
          },
          "ternary": {
           "aaxis": {
            "gridcolor": "white",
            "linecolor": "white",
            "ticks": ""
           },
           "baxis": {
            "gridcolor": "white",
            "linecolor": "white",
            "ticks": ""
           },
           "bgcolor": "#E5ECF6",
           "caxis": {
            "gridcolor": "white",
            "linecolor": "white",
            "ticks": ""
           }
          },
          "title": {
           "x": 0.05
          },
          "xaxis": {
           "automargin": true,
           "gridcolor": "white",
           "linecolor": "white",
           "ticks": "",
           "title": {
            "standoff": 15
           },
           "zerolinecolor": "white",
           "zerolinewidth": 2
          },
          "yaxis": {
           "automargin": true,
           "gridcolor": "white",
           "linecolor": "white",
           "ticks": "",
           "title": {
            "standoff": 15
           },
           "zerolinecolor": "white",
           "zerolinewidth": 2
          }
         }
        },
        "xaxis": {
         "anchor": "y",
         "categoryarray": [
          "parlamentarzysta",
          "ekonomista",
          "prawnik",
          "politolog",
          "nauczyciel akademicki",
          "przedsiębiorca",
          "historyk",
          "adwokat",
          "nauczyciel",
          "pedagog",
          "radca prawny",
          "dziennikarz",
          "lekarz medycyny",
          "przedstawiciel władzy samorządowej",
          "poseł",
          "socjolog",
          "rolnik",
          "poseł na Sejm RP",
          "polityk",
          "ekonomistka",
          "inżynier mechanik",
          "wyższy urzędnik państwowy",
          "menadżer",
          "urzędnik państwowy",
          "programista",
          "przedsiębiorca prywatny",
          "nauczyciel historii",
          "menedżer",
          "inżynier rolnictwa",
          "pracownik samorządowy",
          "lekarz",
          "poseł na sejm RP",
          "lekarz weterynarii",
          "leśnik",
          "administratywista",
          "notariusz",
          "publicysta",
          "przedstawiciel władzy samorządowej - radny",
          "samorządowiec",
          "wyższy urzędnik samorządowy",
          "dziennikarka",
          "wykładowca akademicki",
          "urzędnik samorządowy",
          "urzędnik"
         ],
         "categoryorder": "array",
         "domain": [
          0,
          1
         ],
         "title": {
          "text": "index"
         }
        },
        "yaxis": {
         "anchor": "x",
         "domain": [
          0,
          1
         ],
         "title": {
          "text": "y"
         }
        }
       }
      }
     },
     "metadata": {},
     "output_type": "display_data"
    },
    {
     "data": {
      "application/vnd.plotly.v1+json": {
       "config": {
        "plotlyServerURL": "https://plot.ly"
       },
       "data": [
        {
         "alignmentgroup": "True",
         "bingroup": "x",
         "hovertemplate": "party_list=Prawo i Sprawiedliwość<br>profession=%{x}<br>count=%{y}<extra></extra>",
         "legendgroup": "Prawo i Sprawiedliwość",
         "marker": {
          "color": "#636efa",
          "pattern": {
           "shape": ""
          }
         },
         "name": "Prawo i Sprawiedliwość",
         "offsetgroup": "Prawo i Sprawiedliwość",
         "orientation": "v",
         "showlegend": true,
         "type": "histogram",
         "x": [
          "parlamentarzysta",
          "parlamentarzysta",
          "politolog",
          "inżynier rolnictwa",
          "politolog",
          "radca prawny",
          "parlamentarzysta",
          "historyk",
          "parlamentarzysta",
          "prawnik",
          "nauczyciel wychowania fizycznego",
          "leśnik",
          "urzędnik państwowy",
          "prawnik",
          "nauczyciel akademicki",
          "parlamentarzysta",
          "prawnik",
          "prawnik",
          "przedsiębiorca",
          "nauczyciel",
          "inżynier środowiska",
          "urzędnik państwowy",
          "aktorka",
          "przedstawiciel władzy samorządowej",
          "parlamentarzysta",
          "parlamentarzysta",
          "parlamentarzysta",
          "przedstawiciel władzy samorządowej",
          "parlamentarzysta",
          "parlamentarzysta",
          "wyższy urzędnik administracji rządowej",
          "nauczyciel",
          "prawnik",
          "filolog germański",
          "lekarz medycyny",
          "parlamentarzysta",
          "nauczyciel historii",
          "wyższy urzędnik państwowy",
          "menadżer",
          "parlamentarzysta",
          "parlamentarzysta",
          "parlamentarzysta",
          "historyk",
          "politolog",
          "ekonomista",
          "politolog",
          "parlamentarzysta",
          "przedstawiciel władzy samorządowej",
          "parlamentarzysta",
          "parlamentarzysta",
          "przedsiębiorca",
          "przedsiębiorca",
          "pracownik administracji publicznej",
          "nauczyciel akademicki",
          "poseł",
          "parlamentarzysta",
          "nauczyciel akademicki",
          "rolnik",
          "leśnik",
          "inżynier mechanizacji rolnictwa",
          "specjalista zastosowań informatyki",
          "przedstawiciel władzy samorządowej - radny",
          "pedagog",
          "poseł na Sejm RP",
          "nauczyciel akademicki",
          "ekonomista",
          "dyrektor operacyjny",
          "inżynier mechanik",
          "menadżer",
          "parlamentarzysta",
          "inżynier",
          "parlamentarzysta",
          "lekarz medycyny",
          "politolog",
          "parlamentarzysta",
          "ekonomista",
          "parlamentarzysta",
          "ekonomista",
          "parlamentarzysta",
          "politolog",
          "prawnik",
          "parlamentarzysta",
          "radca prawny",
          "politolog",
          "historyk",
          "prawnik",
          "dyrektor marketingu",
          "poseł na Sejm RP",
          "prawnik",
          "ekonomista prawnik",
          "parlamentarzysta",
          "przedsiębiorca",
          "prawnik",
          "adwokat",
          "ekonomista",
          "inżynier górnik górnictwo podziemne",
          "politolog",
          "parlamentarzysta",
          "parlamentarzysta",
          "politolog",
          "socjolog",
          "parlamentarzysta",
          "politolog",
          "parlamentarzysta",
          "parlamentarzysta",
          "urzędnik państwowy",
          "przedstawiciel władzy samorządowej",
          "wyższy urzędnik samorządowy",
          "nauczyciel akademicki",
          "ekonomista",
          "parlamentarzysta",
          "lekarz",
          "dziennikarz",
          "nauczyciel",
          "historyk",
          "parlamentarzysta",
          "pracownik administracyjny",
          "parlamentarzysta",
          "parlamentarzysta",
          "historyk",
          "lekarz",
          "wyższy urzędnik państwowy",
          "parlamentarzysta",
          "specjalista bankowości",
          "historyk",
          "inżynier budownictwa ogólnego",
          "parlamentarzysta",
          "inż. energetyk",
          "parlamentarzysta",
          "parlamentarzysta",
          "nauczyciel",
          "pedagog",
          "prawnik",
          "polityk",
          "parlamentarzysta",
          "nauczyciel",
          "parlamentarzysta",
          "parlamentarzysta",
          "prawnik",
          "parlamentarzysta",
          "metalurg",
          "nauczyciel akademicki",
          "przedsiębiorca prywatny",
          "dyrektor do spraw administracyjnych",
          "rolnik",
          "parlamentarzysta",
          "prawnik",
          "parlamentarzysta",
          "dyrektor zarządzający",
          "inżynier ogrodnictwa",
          "lekarz medycyny",
          "parlamentarzysta",
          "przedstawiciel władzy samorządowej",
          "nauczyciel historii",
          "adwokat",
          "lekarz medycyny rodzinnej",
          "menedżer",
          "prawnik",
          "parlamentarzysta",
          "parlamentarzysta",
          "wyższy urzędnik państwowy",
          "parlamentarzysta",
          "parlamentarzysta",
          "prawnik",
          "politolog",
          "parlamentarzysta",
          "farmaceuta",
          "prawnik",
          "adwokat",
          "urzędnik",
          "parlamentarzysta",
          "poseł na Sejm RP",
          "parlamentarzysta",
          "parlamentarzysta",
          "specjalista ds. planowania obronnego",
          "wyższy urzędnik państwowy",
          "parlamentarzysta",
          "adwokat",
          "administratywista",
          "parlamentarzysta",
          "parlamentarzysta",
          "lekarz medycyny",
          "lekarz - specjalista chorób wewnętrznych",
          "specjalista ds. administracji i zarządzania",
          "pedagog",
          "wyższy urzędnik samorządowy",
          "przedstawiciel władzy samorządowej",
          "polityk - sekretarz stanu",
          "parlamentarzysta",
          "adwokat",
          "menedżer ochrony zdrowia",
          "prawnik",
          "nauczyciel akademicki",
          "lekarz weterynarii",
          "parlamentarzysta",
          "biegły rewident",
          "sekretarz stanu",
          "inżynier mechanik",
          "specjalista do spraw socjalnych",
          "parlamentarzysta",
          "parlamentarzysta",
          "rolnik",
          "wykładowca akademicki",
          "pedagog",
          "inżynier organizacji i planowania produkcji",
          "informatyk",
          "parlamentarzysta",
          "parlamentarzysta",
          "adwokat",
          "socjolog",
          "politolog",
          "ekonomista",
          "adwokat",
          "nauczyciel akademicki",
          "archeolog",
          "prawnik",
          "przedsiębiorca",
          "menadżer",
          "parlamentarzysta",
          "rolnik",
          "nauczyciel",
          "prawnik",
          "parlamentarzysta",
          "historyk",
          "polityk",
          "parlamentarzysta",
          "politolog",
          "parlamentarzysta",
          "politolog",
          "parlamentarzysta",
          "parlamentarzysta",
          "prawnik",
          "parlamentarzysta",
          "radca prawny",
          "poseł"
         ],
         "xaxis": "x",
         "yaxis": "y"
        },
        {
         "alignmentgroup": "True",
         "bingroup": "x",
         "hovertemplate": "party_list=Sojusz Lewicy Demokratycznej<br>profession=%{x}<br>count=%{y}<extra></extra>",
         "legendgroup": "Sojusz Lewicy Demokratycznej",
         "marker": {
          "color": "#EF553B",
          "pattern": {
           "shape": ""
          }
         },
         "name": "Sojusz Lewicy Demokratycznej",
         "offsetgroup": "Sojusz Lewicy Demokratycznej",
         "orientation": "v",
         "showlegend": true,
         "type": "histogram",
         "x": [
          "samorządowiec",
          "rolnik",
          "socjolożka",
          "socjolog",
          "politolog",
          "politolog",
          "przedsiębiorca",
          "pedagog",
          "prawniczka",
          "nauczyciel akademicki - nauki humanistyczne",
          "socjolog",
          "specjalista do spraw konsultingu",
          "kierowniczka domu kultury",
          "ekonomista",
          "zawodowy działacz organizacji pozarządowej",
          "prawnik",
          "ekonomista",
          "filolog angielski",
          "nauczycielka",
          "przedsiębiorca",
          "nauczycielka akademicka-nauki humanistyczne",
          "dyrektor administracyjny",
          "przedsiębiorca",
          "edukatorka",
          "kierownik działu finansowego",
          "filolożka klasyczna",
          "przedsiębiorca prywatny",
          "prawnik",
          "specjalista do spraw stosunków międzynarodowych",
          "dziennikarka",
          "dziennikarz",
          "nauczyciel akademicki",
          "socjolog",
          "adwokat",
          "profesor",
          "ekonomistka",
          "ekonomista",
          "radca prawny",
          "ekonomista",
          "prawnik",
          "ekonomista",
          "ekonomista",
          "filozofka",
          "inżynier elektryk",
          "lekarz medycyny",
          "ekonomista",
          "programista",
          "specjalista polityki społecznej",
          "prawnik"
         ],
         "xaxis": "x",
         "yaxis": "y"
        },
        {
         "alignmentgroup": "True",
         "bingroup": "x",
         "hovertemplate": "party_list=Koalicja Obywatelska<br>profession=%{x}<br>count=%{y}<extra></extra>",
         "legendgroup": "Koalicja Obywatelska",
         "marker": {
          "color": "#00cc96",
          "pattern": {
           "shape": ""
          }
         },
         "name": "Koalicja Obywatelska",
         "offsetgroup": "Koalicja Obywatelska",
         "orientation": "v",
         "showlegend": true,
         "type": "histogram",
         "x": [
          "dziennikarz",
          "przedsiębiorca rolny",
          "architekt krajobrazu",
          "dziennikarka",
          "ekonomista",
          "urzędnik samorządowy",
          "technik mechanik",
          "przedstawiciel władzy samorządowej - radny",
          "nauczyciel akademicki",
          "inżynier architekt",
          "poseł",
          "przedsiębiorca",
          "parlamentarzystka",
          "dziennikarz",
          "prawnik",
          "chemik",
          "nauczyciel akademicki",
          "ekonomista",
          "ekonomista",
          "dziennikarz, prawnik",
          "mgr inż. transportu",
          "przedsiębiorca",
          "poseł na Sejm RP",
          "pedagog",
          "adwokat",
          "menadżer ochrony zdrowia",
          "nauczyciel akademicki",
          "ekonomistka",
          "adwokat",
          "nauczyciel akademicki",
          "poseł",
          "prawnik",
          "historyk kultury",
          "prawnik",
          "lekarz specjalista chirurgii onkologicznej",
          "sprzedawca",
          "ekonomista",
          "lekarz specjalista położnictwa i ginekologii",
          "aktor",
          "ekonomistka",
          "parlamentarzysta",
          "notariusz",
          "ekonomista",
          "producent filmowy",
          "inżynier elektronik",
          "dziennikarz",
          "politolog",
          "historyk",
          "politolog",
          "nauczyciel akademicki",
          "pedagog",
          "przedstawiciel władzy samorządowej",
          "parlamentarzysta",
          "urzędnik samorządowy",
          "nauczyciel",
          "maszynistka biurowa",
          "inżynier lotniczy budowy płatowców",
          "parlamentarzysta",
          "historyk",
          "nauczyciel",
          "nauczyciel akademicki",
          "samorządowiec",
          "pedagog",
          "ekonomista",
          "trener sportowy",
          "kulturoznawca",
          "lekarz medycyny",
          "przedsiębiorca",
          "prawnik",
          "ekonomista",
          "ekonomistka",
          "radca prawny",
          "parlamentarzysta",
          "ekonomista",
          "lekarz weterynarii",
          "ekonomista",
          "parlamentarzysta",
          "informatyczka",
          "parlamentarzysta",
          "poseł na sejm RP",
          "poseł na sejm RP",
          "filolog polski",
          "ekonomista",
          "radca prawny",
          "pedagog",
          "ekonomista",
          "historyk",
          "radca prawny",
          "radca prawny",
          "inżynier rolnik",
          "politolog",
          "technik ekonomista",
          "polityk",
          "historyk",
          "politolog",
          "ekonomista",
          "prawnik",
          "polityk",
          "nauczyciel",
          "ekonomista",
          "parlamentarzysta",
          "poseł",
          "ekonomista",
          "historyk",
          "administratywista",
          "nauczyciel akademicki",
          "prawnik",
          "ekonomista",
          "architekt",
          "ekonomista",
          "poseł na Sejm RP",
          "urzędnik",
          "politolog",
          "poseł",
          "poseł zawodowy",
          "dziennikarz",
          "politolog",
          "specjalista do spraw szkoleń",
          "ekonomista",
          "wydawca",
          "logik",
          "politolog",
          "przedsiębiorca - menedżer",
          "ekonomista",
          "pracownik administracji samorządowej",
          "politolog",
          "finansista",
          "konsultant",
          "politolog",
          "kierownik do spraw marketingu",
          "parlamentarzysta",
          "dziennikarz",
          "prawnik",
          "inżynier budownictwa"
         ],
         "xaxis": "x",
         "yaxis": "y"
        },
        {
         "alignmentgroup": "True",
         "bingroup": "x",
         "hovertemplate": "party_list=Polskie Stronnictwo Ludowe<br>profession=%{x}<br>count=%{y}<extra></extra>",
         "legendgroup": "Polskie Stronnictwo Ludowe",
         "marker": {
          "color": "#ab63fa",
          "pattern": {
           "shape": ""
          }
         },
         "name": "Polskie Stronnictwo Ludowe",
         "offsetgroup": "Polskie Stronnictwo Ludowe",
         "orientation": "v",
         "showlegend": true,
         "type": "histogram",
         "x": [
          "historyk",
          "inżynier mechanik",
          "Parlamentarzysta",
          "ekonomista",
          "ekonomista",
          "historyk",
          "lekarz medycyny",
          "politolog",
          "muzyk",
          "pracownik samorządowy",
          "lekarz dentysta",
          "parlamentarzysta",
          "rolnik-ogrodnik",
          "przedsiębiorca",
          "pracownik samorządowy",
          "prawnik",
          "parlamentarzysta",
          "parlamentarzysta",
          "inżynier ogrodnik",
          "ekonomista",
          "inżynier rolnictwa",
          "nauczyciel akademicki",
          "specjalista do spraw logistyki",
          "socjolog",
          "notariusz",
          "wykładowca akademicki",
          "parlamentarzysta",
          "rolnik",
          "politolog",
          "menedżer"
         ],
         "xaxis": "x",
         "yaxis": "y"
        },
        {
         "alignmentgroup": "True",
         "bingroup": "x",
         "hovertemplate": "party_list=Konfederacja Wolność i Niepodległość<br>profession=%{x}<br>count=%{y}<extra></extra>",
         "legendgroup": "Konfederacja Wolność i Niepodległość",
         "marker": {
          "color": "#FFA15A",
          "pattern": {
           "shape": ""
          }
         },
         "name": "Konfederacja Wolność i Niepodległość",
         "offsetgroup": "Konfederacja Wolność i Niepodległość",
         "orientation": "v",
         "showlegend": true,
         "type": "histogram",
         "x": [
          "programista",
          "działacz społeczny",
          "reżyser",
          "nauczyciel",
          "przedsiębiorca",
          "publicysta",
          "konsultant do spraw systemów teleinformatycznych",
          "przedsiębiorca",
          "prawnik",
          "przedsiębiorca",
          "publicysta"
         ],
         "xaxis": "x",
         "yaxis": "y"
        },
        {
         "alignmentgroup": "True",
         "bingroup": "x",
         "hovertemplate": "party_list=Mniejszość Niemiecka<br>profession=%{x}<br>count=%{y}<extra></extra>",
         "legendgroup": "Mniejszość Niemiecka",
         "marker": {
          "color": "#19d3f3",
          "pattern": {
           "shape": ""
          }
         },
         "name": "Mniejszość Niemiecka",
         "offsetgroup": "Mniejszość Niemiecka",
         "orientation": "v",
         "showlegend": true,
         "type": "histogram",
         "x": [
          "inżynier mechanik"
         ],
         "xaxis": "x",
         "yaxis": "y"
        }
       ],
       "layout": {
        "barmode": "relative",
        "legend": {
         "title": {
          "text": "party_list"
         },
         "tracegroupgap": 0
        },
        "margin": {
         "t": 60
        },
        "template": {
         "data": {
          "bar": [
           {
            "error_x": {
             "color": "#2a3f5f"
            },
            "error_y": {
             "color": "#2a3f5f"
            },
            "marker": {
             "line": {
              "color": "#E5ECF6",
              "width": 0.5
             },
             "pattern": {
              "fillmode": "overlay",
              "size": 10,
              "solidity": 0.2
             }
            },
            "type": "bar"
           }
          ],
          "barpolar": [
           {
            "marker": {
             "line": {
              "color": "#E5ECF6",
              "width": 0.5
             },
             "pattern": {
              "fillmode": "overlay",
              "size": 10,
              "solidity": 0.2
             }
            },
            "type": "barpolar"
           }
          ],
          "carpet": [
           {
            "aaxis": {
             "endlinecolor": "#2a3f5f",
             "gridcolor": "white",
             "linecolor": "white",
             "minorgridcolor": "white",
             "startlinecolor": "#2a3f5f"
            },
            "baxis": {
             "endlinecolor": "#2a3f5f",
             "gridcolor": "white",
             "linecolor": "white",
             "minorgridcolor": "white",
             "startlinecolor": "#2a3f5f"
            },
            "type": "carpet"
           }
          ],
          "choropleth": [
           {
            "colorbar": {
             "outlinewidth": 0,
             "ticks": ""
            },
            "type": "choropleth"
           }
          ],
          "contour": [
           {
            "colorbar": {
             "outlinewidth": 0,
             "ticks": ""
            },
            "colorscale": [
             [
              0,
              "#0d0887"
             ],
             [
              0.1111111111111111,
              "#46039f"
             ],
             [
              0.2222222222222222,
              "#7201a8"
             ],
             [
              0.3333333333333333,
              "#9c179e"
             ],
             [
              0.4444444444444444,
              "#bd3786"
             ],
             [
              0.5555555555555556,
              "#d8576b"
             ],
             [
              0.6666666666666666,
              "#ed7953"
             ],
             [
              0.7777777777777778,
              "#fb9f3a"
             ],
             [
              0.8888888888888888,
              "#fdca26"
             ],
             [
              1,
              "#f0f921"
             ]
            ],
            "type": "contour"
           }
          ],
          "contourcarpet": [
           {
            "colorbar": {
             "outlinewidth": 0,
             "ticks": ""
            },
            "type": "contourcarpet"
           }
          ],
          "heatmap": [
           {
            "colorbar": {
             "outlinewidth": 0,
             "ticks": ""
            },
            "colorscale": [
             [
              0,
              "#0d0887"
             ],
             [
              0.1111111111111111,
              "#46039f"
             ],
             [
              0.2222222222222222,
              "#7201a8"
             ],
             [
              0.3333333333333333,
              "#9c179e"
             ],
             [
              0.4444444444444444,
              "#bd3786"
             ],
             [
              0.5555555555555556,
              "#d8576b"
             ],
             [
              0.6666666666666666,
              "#ed7953"
             ],
             [
              0.7777777777777778,
              "#fb9f3a"
             ],
             [
              0.8888888888888888,
              "#fdca26"
             ],
             [
              1,
              "#f0f921"
             ]
            ],
            "type": "heatmap"
           }
          ],
          "heatmapgl": [
           {
            "colorbar": {
             "outlinewidth": 0,
             "ticks": ""
            },
            "colorscale": [
             [
              0,
              "#0d0887"
             ],
             [
              0.1111111111111111,
              "#46039f"
             ],
             [
              0.2222222222222222,
              "#7201a8"
             ],
             [
              0.3333333333333333,
              "#9c179e"
             ],
             [
              0.4444444444444444,
              "#bd3786"
             ],
             [
              0.5555555555555556,
              "#d8576b"
             ],
             [
              0.6666666666666666,
              "#ed7953"
             ],
             [
              0.7777777777777778,
              "#fb9f3a"
             ],
             [
              0.8888888888888888,
              "#fdca26"
             ],
             [
              1,
              "#f0f921"
             ]
            ],
            "type": "heatmapgl"
           }
          ],
          "histogram": [
           {
            "marker": {
             "pattern": {
              "fillmode": "overlay",
              "size": 10,
              "solidity": 0.2
             }
            },
            "type": "histogram"
           }
          ],
          "histogram2d": [
           {
            "colorbar": {
             "outlinewidth": 0,
             "ticks": ""
            },
            "colorscale": [
             [
              0,
              "#0d0887"
             ],
             [
              0.1111111111111111,
              "#46039f"
             ],
             [
              0.2222222222222222,
              "#7201a8"
             ],
             [
              0.3333333333333333,
              "#9c179e"
             ],
             [
              0.4444444444444444,
              "#bd3786"
             ],
             [
              0.5555555555555556,
              "#d8576b"
             ],
             [
              0.6666666666666666,
              "#ed7953"
             ],
             [
              0.7777777777777778,
              "#fb9f3a"
             ],
             [
              0.8888888888888888,
              "#fdca26"
             ],
             [
              1,
              "#f0f921"
             ]
            ],
            "type": "histogram2d"
           }
          ],
          "histogram2dcontour": [
           {
            "colorbar": {
             "outlinewidth": 0,
             "ticks": ""
            },
            "colorscale": [
             [
              0,
              "#0d0887"
             ],
             [
              0.1111111111111111,
              "#46039f"
             ],
             [
              0.2222222222222222,
              "#7201a8"
             ],
             [
              0.3333333333333333,
              "#9c179e"
             ],
             [
              0.4444444444444444,
              "#bd3786"
             ],
             [
              0.5555555555555556,
              "#d8576b"
             ],
             [
              0.6666666666666666,
              "#ed7953"
             ],
             [
              0.7777777777777778,
              "#fb9f3a"
             ],
             [
              0.8888888888888888,
              "#fdca26"
             ],
             [
              1,
              "#f0f921"
             ]
            ],
            "type": "histogram2dcontour"
           }
          ],
          "mesh3d": [
           {
            "colorbar": {
             "outlinewidth": 0,
             "ticks": ""
            },
            "type": "mesh3d"
           }
          ],
          "parcoords": [
           {
            "line": {
             "colorbar": {
              "outlinewidth": 0,
              "ticks": ""
             }
            },
            "type": "parcoords"
           }
          ],
          "pie": [
           {
            "automargin": true,
            "type": "pie"
           }
          ],
          "scatter": [
           {
            "fillpattern": {
             "fillmode": "overlay",
             "size": 10,
             "solidity": 0.2
            },
            "type": "scatter"
           }
          ],
          "scatter3d": [
           {
            "line": {
             "colorbar": {
              "outlinewidth": 0,
              "ticks": ""
             }
            },
            "marker": {
             "colorbar": {
              "outlinewidth": 0,
              "ticks": ""
             }
            },
            "type": "scatter3d"
           }
          ],
          "scattercarpet": [
           {
            "marker": {
             "colorbar": {
              "outlinewidth": 0,
              "ticks": ""
             }
            },
            "type": "scattercarpet"
           }
          ],
          "scattergeo": [
           {
            "marker": {
             "colorbar": {
              "outlinewidth": 0,
              "ticks": ""
             }
            },
            "type": "scattergeo"
           }
          ],
          "scattergl": [
           {
            "marker": {
             "colorbar": {
              "outlinewidth": 0,
              "ticks": ""
             }
            },
            "type": "scattergl"
           }
          ],
          "scattermapbox": [
           {
            "marker": {
             "colorbar": {
              "outlinewidth": 0,
              "ticks": ""
             }
            },
            "type": "scattermapbox"
           }
          ],
          "scatterpolar": [
           {
            "marker": {
             "colorbar": {
              "outlinewidth": 0,
              "ticks": ""
             }
            },
            "type": "scatterpolar"
           }
          ],
          "scatterpolargl": [
           {
            "marker": {
             "colorbar": {
              "outlinewidth": 0,
              "ticks": ""
             }
            },
            "type": "scatterpolargl"
           }
          ],
          "scatterternary": [
           {
            "marker": {
             "colorbar": {
              "outlinewidth": 0,
              "ticks": ""
             }
            },
            "type": "scatterternary"
           }
          ],
          "surface": [
           {
            "colorbar": {
             "outlinewidth": 0,
             "ticks": ""
            },
            "colorscale": [
             [
              0,
              "#0d0887"
             ],
             [
              0.1111111111111111,
              "#46039f"
             ],
             [
              0.2222222222222222,
              "#7201a8"
             ],
             [
              0.3333333333333333,
              "#9c179e"
             ],
             [
              0.4444444444444444,
              "#bd3786"
             ],
             [
              0.5555555555555556,
              "#d8576b"
             ],
             [
              0.6666666666666666,
              "#ed7953"
             ],
             [
              0.7777777777777778,
              "#fb9f3a"
             ],
             [
              0.8888888888888888,
              "#fdca26"
             ],
             [
              1,
              "#f0f921"
             ]
            ],
            "type": "surface"
           }
          ],
          "table": [
           {
            "cells": {
             "fill": {
              "color": "#EBF0F8"
             },
             "line": {
              "color": "white"
             }
            },
            "header": {
             "fill": {
              "color": "#C8D4E3"
             },
             "line": {
              "color": "white"
             }
            },
            "type": "table"
           }
          ]
         },
         "layout": {
          "annotationdefaults": {
           "arrowcolor": "#2a3f5f",
           "arrowhead": 0,
           "arrowwidth": 1
          },
          "autotypenumbers": "strict",
          "coloraxis": {
           "colorbar": {
            "outlinewidth": 0,
            "ticks": ""
           }
          },
          "colorscale": {
           "diverging": [
            [
             0,
             "#8e0152"
            ],
            [
             0.1,
             "#c51b7d"
            ],
            [
             0.2,
             "#de77ae"
            ],
            [
             0.3,
             "#f1b6da"
            ],
            [
             0.4,
             "#fde0ef"
            ],
            [
             0.5,
             "#f7f7f7"
            ],
            [
             0.6,
             "#e6f5d0"
            ],
            [
             0.7,
             "#b8e186"
            ],
            [
             0.8,
             "#7fbc41"
            ],
            [
             0.9,
             "#4d9221"
            ],
            [
             1,
             "#276419"
            ]
           ],
           "sequential": [
            [
             0,
             "#0d0887"
            ],
            [
             0.1111111111111111,
             "#46039f"
            ],
            [
             0.2222222222222222,
             "#7201a8"
            ],
            [
             0.3333333333333333,
             "#9c179e"
            ],
            [
             0.4444444444444444,
             "#bd3786"
            ],
            [
             0.5555555555555556,
             "#d8576b"
            ],
            [
             0.6666666666666666,
             "#ed7953"
            ],
            [
             0.7777777777777778,
             "#fb9f3a"
            ],
            [
             0.8888888888888888,
             "#fdca26"
            ],
            [
             1,
             "#f0f921"
            ]
           ],
           "sequentialminus": [
            [
             0,
             "#0d0887"
            ],
            [
             0.1111111111111111,
             "#46039f"
            ],
            [
             0.2222222222222222,
             "#7201a8"
            ],
            [
             0.3333333333333333,
             "#9c179e"
            ],
            [
             0.4444444444444444,
             "#bd3786"
            ],
            [
             0.5555555555555556,
             "#d8576b"
            ],
            [
             0.6666666666666666,
             "#ed7953"
            ],
            [
             0.7777777777777778,
             "#fb9f3a"
            ],
            [
             0.8888888888888888,
             "#fdca26"
            ],
            [
             1,
             "#f0f921"
            ]
           ]
          },
          "colorway": [
           "#636efa",
           "#EF553B",
           "#00cc96",
           "#ab63fa",
           "#FFA15A",
           "#19d3f3",
           "#FF6692",
           "#B6E880",
           "#FF97FF",
           "#FECB52"
          ],
          "font": {
           "color": "#2a3f5f"
          },
          "geo": {
           "bgcolor": "white",
           "lakecolor": "white",
           "landcolor": "#E5ECF6",
           "showlakes": true,
           "showland": true,
           "subunitcolor": "white"
          },
          "hoverlabel": {
           "align": "left"
          },
          "hovermode": "closest",
          "mapbox": {
           "style": "light"
          },
          "paper_bgcolor": "white",
          "plot_bgcolor": "#E5ECF6",
          "polar": {
           "angularaxis": {
            "gridcolor": "white",
            "linecolor": "white",
            "ticks": ""
           },
           "bgcolor": "#E5ECF6",
           "radialaxis": {
            "gridcolor": "white",
            "linecolor": "white",
            "ticks": ""
           }
          },
          "scene": {
           "xaxis": {
            "backgroundcolor": "#E5ECF6",
            "gridcolor": "white",
            "gridwidth": 2,
            "linecolor": "white",
            "showbackground": true,
            "ticks": "",
            "zerolinecolor": "white"
           },
           "yaxis": {
            "backgroundcolor": "#E5ECF6",
            "gridcolor": "white",
            "gridwidth": 2,
            "linecolor": "white",
            "showbackground": true,
            "ticks": "",
            "zerolinecolor": "white"
           },
           "zaxis": {
            "backgroundcolor": "#E5ECF6",
            "gridcolor": "white",
            "gridwidth": 2,
            "linecolor": "white",
            "showbackground": true,
            "ticks": "",
            "zerolinecolor": "white"
           }
          },
          "shapedefaults": {
           "line": {
            "color": "#2a3f5f"
           }
          },
          "ternary": {
           "aaxis": {
            "gridcolor": "white",
            "linecolor": "white",
            "ticks": ""
           },
           "baxis": {
            "gridcolor": "white",
            "linecolor": "white",
            "ticks": ""
           },
           "bgcolor": "#E5ECF6",
           "caxis": {
            "gridcolor": "white",
            "linecolor": "white",
            "ticks": ""
           }
          },
          "title": {
           "x": 0.05
          },
          "xaxis": {
           "automargin": true,
           "gridcolor": "white",
           "linecolor": "white",
           "ticks": "",
           "title": {
            "standoff": 15
           },
           "zerolinecolor": "white",
           "zerolinewidth": 2
          },
          "yaxis": {
           "automargin": true,
           "gridcolor": "white",
           "linecolor": "white",
           "ticks": "",
           "title": {
            "standoff": 15
           },
           "zerolinecolor": "white",
           "zerolinewidth": 2
          }
         }
        },
        "xaxis": {
         "anchor": "y",
         "domain": [
          0,
          1
         ],
         "title": {
          "text": "profession"
         }
        },
        "yaxis": {
         "anchor": "x",
         "domain": [
          0,
          1
         ],
         "title": {
          "text": "count"
         }
        }
       }
      }
     },
     "metadata": {},
     "output_type": "display_data"
    }
   ],
   "source": [
    "# unique values in profession column\n",
    "# mps['profession'].unique()\n",
    "len(mps['profession'].unique())\n",
    "\n",
    "# how many MPs have each profession\n",
    "prof = mps['profession'].groupby(mps['profession']).size()\n",
    "prof\n",
    "\n",
    "# sort by number of MPs\n",
    "prof = prof.sort_values(ascending=False)\n",
    "\n",
    "# filter out professions with less than 2 MPs\n",
    "prof = prof[prof > 1]\n",
    "\n",
    "# graph\n",
    "fig = px.bar(prof, x=prof.index, y=prof.values, color=prof.index)\n",
    "fig.show()\n",
    "\n",
    "# check whose profession is 'nauczyciel'\n",
    "mps[mps['profession'] == 'parlamentarzysta']\n",
    "\n",
    "# check profession of MPs from PiS\n",
    "mps[mps['party_list'] == 'Prawo i Sprawiedliwość']['profession']\n",
    "\n",
    "# graph pis vs po profession\n",
    "fig = px.histogram(mps, x='profession', color='party_list')\n",
    "fig.show()\n"
   ]
  },
  {
   "cell_type": "code",
   "execution_count": 13,
   "metadata": {},
   "outputs": [
    {
     "name": "stdout",
     "output_type": "stream",
     "text": [
      "11,370,284\n"
     ]
    }
   ],
   "source": [
    "# number of votes -> no_of_votes column, print with separators -> 1 000 000\n",
    "number = mps['no_of_votes'].sum()\n",
    "print(f'{number:,}')"
   ]
  }
 ],
 "metadata": {
  "kernelspec": {
   "display_name": "base",
   "language": "python",
   "name": "python3"
  },
  "language_info": {
   "codemirror_mode": {
    "name": "ipython",
    "version": 3
   },
   "file_extension": ".py",
   "mimetype": "text/x-python",
   "name": "python",
   "nbconvert_exporter": "python",
   "pygments_lexer": "ipython3",
   "version": "3.9.16"
  },
  "orig_nbformat": 4
 },
 "nbformat": 4,
 "nbformat_minor": 2
}
